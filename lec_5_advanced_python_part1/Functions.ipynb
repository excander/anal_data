{
 "cells": [
  {
   "cell_type": "markdown",
   "metadata": {},
   "source": [
    "# Функции"
   ]
  },
  {
   "cell_type": "code",
   "execution_count": 17,
   "metadata": {},
   "outputs": [
    {
     "data": {
      "text/plain": [
       "34"
      ]
     },
     "execution_count": 17,
     "metadata": {},
     "output_type": "execute_result"
    }
   ],
   "source": [
    "from datetime import datetime\n",
    "\n",
    "\n",
    "def current_seconds():\n",
    "    \"\"\"Return current seconds\"\"\"\n",
    "    return datetime.now().second\n",
    "\n",
    "\n",
    "current_seconds()"
   ]
  },
  {
   "cell_type": "code",
   "execution_count": 18,
   "metadata": {
    "scrolled": false
   },
   "outputs": [
    {
     "name": "stdout",
     "output_type": "stream",
     "text": [
      "Help on function current_seconds in module __main__:\n",
      "\n",
      "current_seconds()\n",
      "    Return current seconds\n",
      "\n"
     ]
    }
   ],
   "source": [
    "help(current_seconds)"
   ]
  },
  {
   "cell_type": "markdown",
   "metadata": {},
   "source": [
    "SHIFT + TAB"
   ]
  },
  {
   "cell_type": "code",
   "execution_count": null,
   "metadata": {},
   "outputs": [],
   "source": [
    "current_seconds()"
   ]
  },
  {
   "cell_type": "markdown",
   "metadata": {},
   "source": [
    "##  Что такое функция?"
   ]
  },
  {
   "cell_type": "code",
   "execution_count": 19,
   "metadata": {},
   "outputs": [
    {
     "name": "stdout",
     "output_type": "stream",
     "text": [
      "<class 'function'>\n"
     ]
    }
   ],
   "source": [
    "print(type(current_seconds))"
   ]
  },
  {
   "cell_type": "code",
   "execution_count": 20,
   "metadata": {},
   "outputs": [
    {
     "data": {
      "text/plain": [
       "'current_seconds'"
      ]
     },
     "execution_count": 20,
     "metadata": {},
     "output_type": "execute_result"
    }
   ],
   "source": [
    "current_seconds.__name__"
   ]
  },
  {
   "cell_type": "code",
   "execution_count": 21,
   "metadata": {},
   "outputs": [
    {
     "data": {
      "text/plain": [
       "'Return current seconds'"
      ]
     },
     "execution_count": 21,
     "metadata": {},
     "output_type": "execute_result"
    }
   ],
   "source": [
    "current_seconds.__doc__"
   ]
  },
  {
   "cell_type": "code",
   "execution_count": 22,
   "metadata": {},
   "outputs": [
    {
     "data": {
      "text/plain": [
       "['__annotations__',\n",
       " '__call__',\n",
       " '__class__',\n",
       " '__closure__',\n",
       " '__code__',\n",
       " '__defaults__',\n",
       " '__delattr__',\n",
       " '__dict__',\n",
       " '__dir__',\n",
       " '__doc__',\n",
       " '__eq__',\n",
       " '__format__',\n",
       " '__ge__',\n",
       " '__get__',\n",
       " '__getattribute__',\n",
       " '__globals__',\n",
       " '__gt__',\n",
       " '__hash__',\n",
       " '__init__',\n",
       " '__init_subclass__',\n",
       " '__kwdefaults__',\n",
       " '__le__',\n",
       " '__lt__',\n",
       " '__module__',\n",
       " '__name__',\n",
       " '__ne__',\n",
       " '__new__',\n",
       " '__qualname__',\n",
       " '__reduce__',\n",
       " '__reduce_ex__',\n",
       " '__repr__',\n",
       " '__setattr__',\n",
       " '__sizeof__',\n",
       " '__str__',\n",
       " '__subclasshook__']"
      ]
     },
     "execution_count": 22,
     "metadata": {},
     "output_type": "execute_result"
    }
   ],
   "source": [
    "dir(current_seconds)"
   ]
  },
  {
   "cell_type": "markdown",
   "metadata": {},
   "source": [
    "### В Python всё — объект 😱"
   ]
  },
  {
   "cell_type": "code",
   "execution_count": 23,
   "metadata": {},
   "outputs": [
    {
     "data": {
      "text/plain": [
       "['__abs__',\n",
       " '__add__',\n",
       " '__and__',\n",
       " '__bool__',\n",
       " '__ceil__',\n",
       " '__class__',\n",
       " '__delattr__',\n",
       " '__dir__',\n",
       " '__divmod__',\n",
       " '__doc__',\n",
       " '__eq__',\n",
       " '__float__',\n",
       " '__floor__',\n",
       " '__floordiv__',\n",
       " '__format__',\n",
       " '__ge__',\n",
       " '__getattribute__',\n",
       " '__getnewargs__',\n",
       " '__gt__',\n",
       " '__hash__',\n",
       " '__index__',\n",
       " '__init__',\n",
       " '__init_subclass__',\n",
       " '__int__',\n",
       " '__invert__',\n",
       " '__le__',\n",
       " '__lshift__',\n",
       " '__lt__',\n",
       " '__mod__',\n",
       " '__mul__',\n",
       " '__ne__',\n",
       " '__neg__',\n",
       " '__new__',\n",
       " '__or__',\n",
       " '__pos__',\n",
       " '__pow__',\n",
       " '__radd__',\n",
       " '__rand__',\n",
       " '__rdivmod__',\n",
       " '__reduce__',\n",
       " '__reduce_ex__',\n",
       " '__repr__',\n",
       " '__rfloordiv__',\n",
       " '__rlshift__',\n",
       " '__rmod__',\n",
       " '__rmul__',\n",
       " '__ror__',\n",
       " '__round__',\n",
       " '__rpow__',\n",
       " '__rrshift__',\n",
       " '__rshift__',\n",
       " '__rsub__',\n",
       " '__rtruediv__',\n",
       " '__rxor__',\n",
       " '__setattr__',\n",
       " '__sizeof__',\n",
       " '__str__',\n",
       " '__sub__',\n",
       " '__subclasshook__',\n",
       " '__truediv__',\n",
       " '__trunc__',\n",
       " '__xor__',\n",
       " 'bit_length',\n",
       " 'conjugate',\n",
       " 'denominator',\n",
       " 'from_bytes',\n",
       " 'imag',\n",
       " 'numerator',\n",
       " 'real',\n",
       " 'to_bytes']"
      ]
     },
     "execution_count": 23,
     "metadata": {},
     "output_type": "execute_result"
    }
   ],
   "source": [
    "a = 5\n",
    "dir(a)"
   ]
  },
  {
   "cell_type": "code",
   "execution_count": 24,
   "metadata": {},
   "outputs": [
    {
     "ename": "TypeError",
     "evalue": "unsupported operand type(s) for +: 'int' and 'str'",
     "output_type": "error",
     "traceback": [
      "\u001b[0;31m---------------------------------------------------------------------------\u001b[0m",
      "\u001b[0;31mTypeError\u001b[0m                                 Traceback (most recent call last)",
      "\u001b[0;32m<ipython-input-24-ee244f9d0a0e>\u001b[0m in \u001b[0;36m<module>\u001b[0;34m\u001b[0m\n\u001b[0;32m----> 1\u001b[0;31m \u001b[0;36m5\u001b[0m \u001b[0;34m+\u001b[0m \u001b[0;34m\"hello\"\u001b[0m\u001b[0;34m\u001b[0m\u001b[0;34m\u001b[0m\u001b[0m\n\u001b[0m",
      "\u001b[0;31mTypeError\u001b[0m: unsupported operand type(s) for +: 'int' and 'str'"
     ]
    }
   ],
   "source": [
    "5 + \"hello\""
   ]
  },
  {
   "cell_type": "markdown",
   "metadata": {},
   "source": [
    "### Хорошо, и что дальше?"
   ]
  },
  {
   "cell_type": "code",
   "execution_count": 9,
   "metadata": {},
   "outputs": [
    {
     "data": {
      "text/plain": [
       "11"
      ]
     },
     "execution_count": 9,
     "metadata": {},
     "output_type": "execute_result"
    }
   ],
   "source": [
    "func = current_seconds\n",
    "func()"
   ]
  },
  {
   "cell_type": "code",
   "execution_count": 10,
   "metadata": {},
   "outputs": [
    {
     "data": {
      "text/plain": [
       "<function __main__.current_seconds()>"
      ]
     },
     "execution_count": 10,
     "metadata": {},
     "output_type": "execute_result"
    }
   ],
   "source": [
    "func"
   ]
  },
  {
   "cell_type": "code",
   "execution_count": 11,
   "metadata": {},
   "outputs": [
    {
     "data": {
      "text/plain": [
       "8"
      ]
     },
     "execution_count": 11,
     "metadata": {},
     "output_type": "execute_result"
    }
   ],
   "source": [
    "def add(a, b):\n",
    "    return a + b\n",
    "\n",
    "def power(a, b):\n",
    "    return a ** b\n",
    "\n",
    "def sub(a, b):\n",
    "    return a - b\n",
    "\n",
    "key = 'power'\n",
    "\n",
    "func = {\n",
    "    'add':   add,\n",
    "    'power': power,\n",
    "    'sub':   sub,\n",
    "}[key]\n",
    "\n",
    "func(2, 3)"
   ]
  },
  {
   "cell_type": "code",
   "execution_count": 12,
   "metadata": {},
   "outputs": [
    {
     "data": {
      "text/plain": [
       "'iMh52KgXWwg'"
      ]
     },
     "execution_count": 12,
     "metadata": {},
     "output_type": "execute_result"
    }
   ],
   "source": [
    "current_seconds.secret = \"iMh52KgXWwg\"\n",
    "current_seconds.secret"
   ]
  },
  {
   "cell_type": "code",
   "execution_count": 30,
   "metadata": {},
   "outputs": [],
   "source": [
    "def func():\n",
    "    func.counter += 1\n",
    "\n",
    "func.counter = 0"
   ]
  },
  {
   "cell_type": "code",
   "execution_count": 31,
   "metadata": {},
   "outputs": [
    {
     "data": {
      "text/plain": [
       "5"
      ]
     },
     "execution_count": 31,
     "metadata": {},
     "output_type": "execute_result"
    }
   ],
   "source": [
    "for i in range(5):\n",
    "    func()\n",
    "    \n",
    "func.counter"
   ]
  },
  {
   "cell_type": "code",
   "execution_count": 15,
   "metadata": {},
   "outputs": [],
   "source": [
    "def func():\n",
    "    if not hasattr(func, 'counter'):\n",
    "        setattr(func, 'counter', 0)\n",
    "    func.counter += 1"
   ]
  },
  {
   "cell_type": "code",
   "execution_count": 16,
   "metadata": {},
   "outputs": [
    {
     "data": {
      "text/plain": [
       "7"
      ]
     },
     "execution_count": 16,
     "metadata": {},
     "output_type": "execute_result"
    }
   ],
   "source": [
    "for i in range(7):\n",
    "    func()\n",
    "    \n",
    "func.counter"
   ]
  },
  {
   "cell_type": "markdown",
   "metadata": {},
   "source": [
    "**НИКОГДА** не делайте так, как показано ниже."
   ]
  },
  {
   "cell_type": "code",
   "execution_count": 37,
   "metadata": {},
   "outputs": [
    {
     "data": {
      "text/plain": [
       "24"
      ]
     },
     "execution_count": 37,
     "metadata": {},
     "output_type": "execute_result"
    }
   ],
   "source": [
    "# Внимание на количество аргументов!\n",
    "\n",
    "def func(a, b):\n",
    "    pass\n",
    "\n",
    "func.__code__ = current_seconds.__code__\n",
    "func()"
   ]
  },
  {
   "cell_type": "code",
   "execution_count": 18,
   "metadata": {},
   "outputs": [
    {
     "data": {
      "text/plain": [
       "<function __main__.func()>"
      ]
     },
     "execution_count": 18,
     "metadata": {},
     "output_type": "execute_result"
    }
   ],
   "source": [
    "func"
   ]
  },
  {
   "cell_type": "markdown",
   "metadata": {},
   "source": [
    "## Как можно и как нельзя вызывать функции?"
   ]
  },
  {
   "cell_type": "code",
   "execution_count": 38,
   "metadata": {},
   "outputs": [
    {
     "ename": "TypeError",
     "evalue": "current_seconds() takes 0 positional arguments but 1 was given",
     "output_type": "error",
     "traceback": [
      "\u001b[0;31m---------------------------------------------------------------------------\u001b[0m",
      "\u001b[0;31mTypeError\u001b[0m                                 Traceback (most recent call last)",
      "\u001b[0;32m<ipython-input-38-ba2f9d46cb5a>\u001b[0m in \u001b[0;36m<module>\u001b[0;34m\u001b[0m\n\u001b[0;32m----> 1\u001b[0;31m \u001b[0mcurrent_seconds\u001b[0m\u001b[0;34m(\u001b[0m\u001b[0;36m5\u001b[0m\u001b[0;34m)\u001b[0m\u001b[0;34m\u001b[0m\u001b[0;34m\u001b[0m\u001b[0m\n\u001b[0m",
      "\u001b[0;31mTypeError\u001b[0m: current_seconds() takes 0 positional arguments but 1 was given"
     ]
    }
   ],
   "source": [
    "current_seconds(5)"
   ]
  },
  {
   "cell_type": "code",
   "execution_count": 48,
   "metadata": {},
   "outputs": [],
   "source": [
    "def func(a, b, c, d):\n",
    "    print(f\"a = {a}; b = {b}; c = {c}; d = {d}\")"
   ]
  },
  {
   "cell_type": "code",
   "execution_count": 49,
   "metadata": {},
   "outputs": [
    {
     "ename": "TypeError",
     "evalue": "func() missing 4 required positional arguments: 'a', 'b', 'c', and 'd'",
     "output_type": "error",
     "traceback": [
      "\u001b[0;31m---------------------------------------------------------------------------\u001b[0m",
      "\u001b[0;31mTypeError\u001b[0m                                 Traceback (most recent call last)",
      "\u001b[0;32m<ipython-input-49-bd1982955a12>\u001b[0m in \u001b[0;36m<module>\u001b[0;34m\u001b[0m\n\u001b[0;32m----> 1\u001b[0;31m \u001b[0mfunc\u001b[0m\u001b[0;34m(\u001b[0m\u001b[0;34m)\u001b[0m\u001b[0;34m\u001b[0m\u001b[0;34m\u001b[0m\u001b[0m\n\u001b[0m",
      "\u001b[0;31mTypeError\u001b[0m: func() missing 4 required positional arguments: 'a', 'b', 'c', and 'd'"
     ]
    }
   ],
   "source": [
    "func()"
   ]
  },
  {
   "cell_type": "code",
   "execution_count": 50,
   "metadata": {},
   "outputs": [
    {
     "name": "stdout",
     "output_type": "stream",
     "text": [
      "a = 1; b = 2; c = 3; d = 4\n"
     ]
    }
   ],
   "source": [
    "func(1, 2, 3, 4)"
   ]
  },
  {
   "cell_type": "code",
   "execution_count": 51,
   "metadata": {},
   "outputs": [
    {
     "name": "stdout",
     "output_type": "stream",
     "text": [
      "a = 3; b = 2; c = 1; d = 4\n"
     ]
    }
   ],
   "source": [
    "func(c=1, b=2, a=3, d=4)"
   ]
  },
  {
   "cell_type": "code",
   "execution_count": 52,
   "metadata": {},
   "outputs": [
    {
     "name": "stdout",
     "output_type": "stream",
     "text": [
      "a = 1; b = 2; c = 4; d = 3\n"
     ]
    }
   ],
   "source": [
    "func(1, 2, d=3, c=4)"
   ]
  },
  {
   "cell_type": "code",
   "execution_count": 53,
   "metadata": {},
   "outputs": [
    {
     "ename": "TypeError",
     "evalue": "func() got multiple values for argument 'a'",
     "output_type": "error",
     "traceback": [
      "\u001b[0;31m---------------------------------------------------------------------------\u001b[0m",
      "\u001b[0;31mTypeError\u001b[0m                                 Traceback (most recent call last)",
      "\u001b[0;32m<ipython-input-53-92a149731d75>\u001b[0m in \u001b[0;36m<module>\u001b[0;34m\u001b[0m\n\u001b[0;32m----> 1\u001b[0;31m \u001b[0mfunc\u001b[0m\u001b[0;34m(\u001b[0m\u001b[0;36m1\u001b[0m\u001b[0;34m,\u001b[0m \u001b[0;36m3\u001b[0m\u001b[0;34m,\u001b[0m \u001b[0ma\u001b[0m\u001b[0;34m=\u001b[0m\u001b[0;36m2\u001b[0m\u001b[0;34m,\u001b[0m \u001b[0md\u001b[0m\u001b[0;34m=\u001b[0m\u001b[0;36m4\u001b[0m\u001b[0;34m)\u001b[0m\u001b[0;34m\u001b[0m\u001b[0;34m\u001b[0m\u001b[0m\n\u001b[0m",
      "\u001b[0;31mTypeError\u001b[0m: func() got multiple values for argument 'a'"
     ]
    }
   ],
   "source": [
    "func(1, 3, a=2, d=4)"
   ]
  },
  {
   "cell_type": "code",
   "execution_count": 54,
   "metadata": {},
   "outputs": [
    {
     "ename": "SyntaxError",
     "evalue": "positional argument follows keyword argument (<ipython-input-54-d13e1488f6b8>, line 1)",
     "output_type": "error",
     "traceback": [
      "\u001b[0;36m  File \u001b[0;32m\"<ipython-input-54-d13e1488f6b8>\"\u001b[0;36m, line \u001b[0;32m1\u001b[0m\n\u001b[0;31m    func(a=1, b=2, 1, 3)\u001b[0m\n\u001b[0m                  ^\u001b[0m\n\u001b[0;31mSyntaxError\u001b[0m\u001b[0;31m:\u001b[0m positional argument follows keyword argument\n"
     ]
    }
   ],
   "source": [
    "func(a=1, b=2, 1, 3)"
   ]
  },
  {
   "cell_type": "markdown",
   "metadata": {},
   "source": [
    "### Распаковка аргументов"
   ]
  },
  {
   "cell_type": "code",
   "execution_count": 55,
   "metadata": {},
   "outputs": [
    {
     "name": "stdout",
     "output_type": "stream",
     "text": [
      "a = 1; b = 2; c = 3; d = 4\n"
     ]
    }
   ],
   "source": [
    "args = (1, 2, 3, 4)\n",
    "func(*args)"
   ]
  },
  {
   "cell_type": "code",
   "execution_count": 58,
   "metadata": {},
   "outputs": [
    {
     "name": "stdout",
     "output_type": "stream",
     "text": [
      "str1 str2 str3\n"
     ]
    }
   ],
   "source": [
    "args = ['str1', 'str2', 'str3']\n",
    "print(*args)"
   ]
  },
  {
   "cell_type": "code",
   "execution_count": 59,
   "metadata": {},
   "outputs": [
    {
     "name": "stdout",
     "output_type": "stream",
     "text": [
      "['str1', 'str2', 'str3']\n"
     ]
    }
   ],
   "source": [
    "print(args)"
   ]
  },
  {
   "cell_type": "code",
   "execution_count": 60,
   "metadata": {},
   "outputs": [
    {
     "name": "stdout",
     "output_type": "stream",
     "text": [
      "a = 1; b = 3; c = 4; d = 2\n"
     ]
    }
   ],
   "source": [
    "a = 1\n",
    "b = 3\n",
    "c = 4\n",
    "d = 2\n",
    "\n",
    "# Сложные логические вычисления аргументов функции...\n",
    "\n",
    "func(a=a, b=b, c=c, d=d)"
   ]
  },
  {
   "cell_type": "code",
   "execution_count": 61,
   "metadata": {},
   "outputs": [
    {
     "name": "stdout",
     "output_type": "stream",
     "text": [
      "a = 1; b = 3; c = 4; d = 2\n"
     ]
    }
   ],
   "source": [
    "kwargs = {\n",
    "    'a': 1,\n",
    "    'b': 3,\n",
    "    'c': 4,\n",
    "    'd': 2,\n",
    "}\n",
    "\n",
    "func(**kwargs)"
   ]
  },
  {
   "cell_type": "code",
   "execution_count": 62,
   "metadata": {},
   "outputs": [
    {
     "name": "stdout",
     "output_type": "stream",
     "text": [
      "a = 2; b = 1; c = 4; d = 3\n"
     ]
    }
   ],
   "source": [
    "args = (2, 1)\n",
    "kwargs = {'d': 3, 'c': 4, }\n",
    "\n",
    "func(*args, **kwargs)"
   ]
  },
  {
   "cell_type": "code",
   "execution_count": 63,
   "metadata": {},
   "outputs": [],
   "source": [
    "# Функция, которая принимает все, что угодно\n",
    "\n",
    "def func(*args, **kwargs):\n",
    "    pass\n",
    "\n",
    "func()\n",
    "func(5, 6, 7)\n",
    "func([4], 5, b=12, d=6)\n",
    "func(a=6, b=8)"
   ]
  },
  {
   "cell_type": "code",
   "execution_count": 64,
   "metadata": {},
   "outputs": [],
   "source": [
    "def func(a, b, *args, **kwargs):\n",
    "    print(\"Function has started.\")\n",
    "    print(\"a = {}\".format(a))\n",
    "    print(\"b = {}\".format(b))\n",
    "    print(\"args = {}\".format(args))\n",
    "    print(\"kwargs = {}\".format(kwargs))\n",
    "    print(\"Function has finished.\")"
   ]
  },
  {
   "cell_type": "code",
   "execution_count": 65,
   "metadata": {},
   "outputs": [
    {
     "name": "stdout",
     "output_type": "stream",
     "text": [
      "Function has started.\n",
      "a = 1\n",
      "b = 4\n",
      "args = ()\n",
      "kwargs = {}\n",
      "Function has finished.\n"
     ]
    }
   ],
   "source": [
    "func(1, 4)"
   ]
  },
  {
   "cell_type": "code",
   "execution_count": 66,
   "metadata": {},
   "outputs": [
    {
     "name": "stdout",
     "output_type": "stream",
     "text": [
      "Function has started.\n",
      "a = 1\n",
      "b = 4\n",
      "args = (2, 3)\n",
      "kwargs = {'f': 6, 'n': 7, 'm': 12}\n",
      "Function has finished.\n"
     ]
    }
   ],
   "source": [
    "func(1, 4, 2, 3, f=6, n=7, m=12)"
   ]
  },
  {
   "cell_type": "markdown",
   "metadata": {},
   "source": [
    "## Аргументы по ссылке или по значению?"
   ]
  },
  {
   "cell_type": "code",
   "execution_count": 1,
   "metadata": {},
   "outputs": [
    {
     "name": "stdout",
     "output_type": "stream",
     "text": [
      "#include <iostream>\n",
      "#include <vector>\n",
      "\n",
      "void vectorAppender1(std::vector<int> a, int b) {\n",
      "    // passing argument by value\n",
      "    a.push_back(b);\n",
      "}\n",
      "\n",
      "void vectorAppender2(std::vector<int>& a, int b) {\n",
      "    // passing argument by reference\n",
      "    a.push_back(b);\n",
      "}\n",
      "\n",
      "int main() {\n",
      "    std::vector<int> v;\n",
      "\n",
      "    vectorAppender1(v, 1);\n",
      "    vectorAppender2(v, 2);\n",
      "\n",
      "    for (const auto& e : v)\n",
      "        std::cout << e << ' ';\n",
      "    std::cout << std::endl;\n",
      "\n",
      "    return 0;\n",
      "}\n"
     ]
    }
   ],
   "source": [
    "%%bash\n",
    "\n",
    "cat files/example01.cpp\n",
    "g++ -O2 -o files/example files/example01.cpp"
   ]
  },
  {
   "cell_type": "code",
   "execution_count": 2,
   "metadata": {},
   "outputs": [
    {
     "name": "stdout",
     "output_type": "stream",
     "text": [
      "2 \r\n"
     ]
    }
   ],
   "source": [
    "!files/example"
   ]
  },
  {
   "cell_type": "code",
   "execution_count": 3,
   "metadata": {},
   "outputs": [],
   "source": [
    "users = [\n",
    "    ('Michael', '06.08.62'),\n",
    "    ('Vadim', '23.08.89'),\n",
    "]\n",
    "\n",
    "def user_appender(users, u):\n",
    "    users.append(u)"
   ]
  },
  {
   "cell_type": "code",
   "execution_count": 4,
   "metadata": {},
   "outputs": [
    {
     "name": "stdout",
     "output_type": "stream",
     "text": [
      "Before: [('Michael', '06.08.62'), ('Vadim', '23.08.89')]\n",
      "After:  [('Michael', '06.08.62'), ('Vadim', '23.08.89'), ('Nastya', '16.01.97')]\n"
     ]
    }
   ],
   "source": [
    "u = ('Nastya', '16.01.97')\n",
    "    \n",
    "print(\"Before:\", users)\n",
    "user_appender(users, u)\n",
    "print(\"After: \", users)"
   ]
  },
  {
   "cell_type": "code",
   "execution_count": 16,
   "metadata": {},
   "outputs": [],
   "source": [
    "def user_modifier(u_before, u_after):\n",
    "    u_before = u_after"
   ]
  },
  {
   "cell_type": "code",
   "execution_count": 18,
   "metadata": {},
   "outputs": [
    {
     "name": "stdout",
     "output_type": "stream",
     "text": [
      "Before: ['Nastya', '16.01.97']\n",
      "After:  ['Nastya', '16.01.97']\n"
     ]
    }
   ],
   "source": [
    "user_b = ['Nastya', '16.01.97']\n",
    "user_a = ['Anton', '04.11.96']\n",
    "    \n",
    "print(\"Before:\", user_b)\n",
    "user_modifier(user_b, user_a)\n",
    "print(\"After: \", user_b)"
   ]
  },
  {
   "cell_type": "code",
   "execution_count": 14,
   "metadata": {},
   "outputs": [],
   "source": [
    "def user_modifier(u_before, u_after):\n",
    "    u_before[:] = u_after"
   ]
  },
  {
   "cell_type": "code",
   "execution_count": 15,
   "metadata": {},
   "outputs": [
    {
     "name": "stdout",
     "output_type": "stream",
     "text": [
      "Before: ['Nastya', '16.01.97']\n",
      "After:  ['Anton', '04.11.96']\n"
     ]
    }
   ],
   "source": [
    "user_b = ['Nastya', '16.01.97']\n",
    "user_a = ['Anton', '04.11.96']\n",
    "    \n",
    "print(\"Before:\", user_b)\n",
    "user_modifier(user_b, user_a)\n",
    "print(\"After: \", user_b)"
   ]
  },
  {
   "cell_type": "code",
   "execution_count": 31,
   "metadata": {},
   "outputs": [
    {
     "data": {
      "text/plain": [
       "10"
      ]
     },
     "execution_count": 31,
     "metadata": {},
     "output_type": "execute_result"
    }
   ],
   "source": [
    "#мой пример\n",
    "def user_modifier(u_before, u_after):\n",
    "    u_before = u_after\n",
    "a = 10\n",
    "b = 50\n",
    "user_modifier(a, b)\n",
    "a"
   ]
  },
  {
   "cell_type": "markdown",
   "metadata": {},
   "source": [
    "## Область видимости"
   ]
  },
  {
   "cell_type": "markdown",
   "metadata": {},
   "source": [
    "Основное правило поиска **LEGB**: Local -> Enclosed -> Global -> Built-in"
   ]
  },
  {
   "cell_type": "code",
   "execution_count": 45,
   "metadata": {},
   "outputs": [
    {
     "name": "stdout",
     "output_type": "stream",
     "text": [
      "[local]\t\t GLOBAL\n"
     ]
    }
   ],
   "source": [
    "result = \"GLOBAL\"\n",
    "\n",
    "def func():\n",
    "    print(\"[local]\\t\\t\", result)\n",
    "\n",
    "func()"
   ]
  },
  {
   "cell_type": "code",
   "execution_count": 46,
   "metadata": {},
   "outputs": [
    {
     "name": "stdout",
     "output_type": "stream",
     "text": [
      "[global]\t GLOBAL\n",
      "[local]\t\t LOCAL\n",
      "[global]\t GLOBAL\n"
     ]
    }
   ],
   "source": [
    "result = \"GLOBAL\"\n",
    "\n",
    "def func():\n",
    "    result = \"LOCAL\"\n",
    "    print(\"[local]\\t\\t\", result)\n",
    "\n",
    "print(\"[global]\\t\", result)\n",
    "func()\n",
    "print(\"[global]\\t\", result)"
   ]
  },
  {
   "cell_type": "code",
   "execution_count": 47,
   "metadata": {},
   "outputs": [
    {
     "name": "stdout",
     "output_type": "stream",
     "text": [
      "[global]\t GLOBAL\n",
      "[local]\t\t LOCAL\n",
      "[global]\t LOCAL\n"
     ]
    }
   ],
   "source": [
    "result = \"GLOBAL\"\n",
    "\n",
    "def func():\n",
    "    global result\n",
    "    result = \"LOCAL\"\n",
    "    print(\"[local]\\t\\t\", result)\n",
    "\n",
    "print(\"[global]\\t\", result)\n",
    "func()\n",
    "print(\"[global]\\t\", result)"
   ]
  },
  {
   "cell_type": "code",
   "execution_count": 48,
   "metadata": {},
   "outputs": [
    {
     "name": "stdout",
     "output_type": "stream",
     "text": [
      "[global]\t GLOBAL\n"
     ]
    },
    {
     "ename": "UnboundLocalError",
     "evalue": "local variable 'result' referenced before assignment",
     "output_type": "error",
     "traceback": [
      "\u001b[0;31m---------------------------------------------------------------------------\u001b[0m",
      "\u001b[0;31mUnboundLocalError\u001b[0m                         Traceback (most recent call last)",
      "\u001b[0;32m<ipython-input-48-514e498e5e73>\u001b[0m in \u001b[0;36m<module>\u001b[0;34m()\u001b[0m\n\u001b[1;32m      7\u001b[0m \u001b[0;34m\u001b[0m\u001b[0m\n\u001b[1;32m      8\u001b[0m \u001b[0mprint\u001b[0m\u001b[0;34m(\u001b[0m\u001b[0;34m\"[global]\\t\"\u001b[0m\u001b[0;34m,\u001b[0m \u001b[0mresult\u001b[0m\u001b[0;34m)\u001b[0m\u001b[0;34m\u001b[0m\u001b[0;34m\u001b[0m\u001b[0m\n\u001b[0;32m----> 9\u001b[0;31m \u001b[0mfunc\u001b[0m\u001b[0;34m(\u001b[0m\u001b[0;34m)\u001b[0m\u001b[0;34m\u001b[0m\u001b[0;34m\u001b[0m\u001b[0m\n\u001b[0m\u001b[1;32m     10\u001b[0m \u001b[0mprint\u001b[0m\u001b[0;34m(\u001b[0m\u001b[0;34m\"[global]\\t\"\u001b[0m\u001b[0;34m,\u001b[0m \u001b[0mresult\u001b[0m\u001b[0;34m)\u001b[0m\u001b[0;34m\u001b[0m\u001b[0;34m\u001b[0m\u001b[0m\n",
      "\u001b[0;32m<ipython-input-48-514e498e5e73>\u001b[0m in \u001b[0;36mfunc\u001b[0;34m()\u001b[0m\n\u001b[1;32m      2\u001b[0m \u001b[0;34m\u001b[0m\u001b[0m\n\u001b[1;32m      3\u001b[0m \u001b[0;32mdef\u001b[0m \u001b[0mfunc\u001b[0m\u001b[0;34m(\u001b[0m\u001b[0;34m)\u001b[0m\u001b[0;34m:\u001b[0m\u001b[0;34m\u001b[0m\u001b[0;34m\u001b[0m\u001b[0m\n\u001b[0;32m----> 4\u001b[0;31m     \u001b[0mprint\u001b[0m\u001b[0;34m(\u001b[0m\u001b[0;34m\"[local]\\t\\t\"\u001b[0m\u001b[0;34m,\u001b[0m \u001b[0mresult\u001b[0m\u001b[0;34m)\u001b[0m\u001b[0;34m\u001b[0m\u001b[0;34m\u001b[0m\u001b[0m\n\u001b[0m\u001b[1;32m      5\u001b[0m     \u001b[0mresult\u001b[0m \u001b[0;34m=\u001b[0m \u001b[0;34m\"LOCAL\"\u001b[0m\u001b[0;34m\u001b[0m\u001b[0;34m\u001b[0m\u001b[0m\n\u001b[1;32m      6\u001b[0m     \u001b[0mprint\u001b[0m\u001b[0;34m(\u001b[0m\u001b[0;34m\"[local]\\t\\t\"\u001b[0m\u001b[0;34m,\u001b[0m \u001b[0mresult\u001b[0m\u001b[0;34m)\u001b[0m\u001b[0;34m\u001b[0m\u001b[0;34m\u001b[0m\u001b[0m\n",
      "\u001b[0;31mUnboundLocalError\u001b[0m: local variable 'result' referenced before assignment"
     ]
    }
   ],
   "source": [
    "result = \"GLOBAL\"\n",
    "\n",
    "def func():\n",
    "    print(\"[local]\\t\\t\", result)\n",
    "    result = \"LOCAL\"\n",
    "    print(\"[local]\\t\\t\", result)\n",
    "\n",
    "print(\"[global]\\t\", result)\n",
    "func()\n",
    "print(\"[global]\\t\", result)"
   ]
  },
  {
   "cell_type": "code",
   "execution_count": 49,
   "metadata": {},
   "outputs": [
    {
     "name": "stdout",
     "output_type": "stream",
     "text": [
      "[global]\t GLOBAL\n",
      "[enclosed]\t ENCLOSED\n",
      "[local]\t\t LOCAL\n",
      "[enclosed]\t ENCLOSED\n",
      "[global]\t GLOBAL\n"
     ]
    }
   ],
   "source": [
    "result = 'GLOBAL'\n",
    "\n",
    "def func_outer():\n",
    "    result = 'ENCLOSED'\n",
    "    print(\"[enclosed]\\t\", result)\n",
    "\n",
    "    def func():\n",
    "        result = 'LOCAL'\n",
    "        print(\"[local]\\t\\t\", result)\n",
    "\n",
    "    func()\n",
    "    print(\"[enclosed]\\t\", result)\n",
    "\n",
    "print(\"[global]\\t\", result)\n",
    "func_outer()\n",
    "print(\"[global]\\t\", result)"
   ]
  },
  {
   "cell_type": "code",
   "execution_count": 50,
   "metadata": {
    "scrolled": true
   },
   "outputs": [
    {
     "name": "stdout",
     "output_type": "stream",
     "text": [
      "[global]\t GLOBAL\n",
      "[enclosed]\t ENCLOSED\n",
      "[local]\t\t LOCAL\n",
      "[enclosed]\t ENCLOSED\n",
      "[global]\t LOCAL\n"
     ]
    }
   ],
   "source": [
    "result = 'GLOBAL'\n",
    "\n",
    "def func_outer():\n",
    "    result = 'ENCLOSED'\n",
    "    print(\"[enclosed]\\t\", result)\n",
    "    \n",
    "    def func():\n",
    "        global result\n",
    "        result = 'LOCAL'\n",
    "        print(\"[local]\\t\\t\", result)\n",
    "        \n",
    "    func()\n",
    "    print(\"[enclosed]\\t\", result)\n",
    "\n",
    "print(\"[global]\\t\", result)\n",
    "func_outer()\n",
    "print(\"[global]\\t\", result)"
   ]
  },
  {
   "cell_type": "code",
   "execution_count": 51,
   "metadata": {},
   "outputs": [
    {
     "name": "stdout",
     "output_type": "stream",
     "text": [
      "[global]\t GLOBAL\n",
      "[enclosed]\t ENCLOSED\n",
      "[local]\t\t LOCAL\n",
      "[enclosed]\t LOCAL\n",
      "[global]\t GLOBAL\n"
     ]
    }
   ],
   "source": [
    "result = 'GLOBAL'\n",
    "\n",
    "def func_outer():\n",
    "    result = 'ENCLOSED'\n",
    "    print(\"[enclosed]\\t\", result)\n",
    "    \n",
    "    def func():\n",
    "        nonlocal result\n",
    "        result = 'LOCAL'\n",
    "        print(\"[local]\\t\\t\", result)\n",
    "        \n",
    "    func()\n",
    "    print(\"[enclosed]\\t\", result)\n",
    "\n",
    "print(\"[global]\\t\", result)\n",
    "func_outer()\n",
    "print(\"[global]\\t\", result)"
   ]
  },
  {
   "cell_type": "markdown",
   "metadata": {},
   "source": [
    "## Аргументы по-умолчанию"
   ]
  },
  {
   "cell_type": "code",
   "execution_count": 52,
   "metadata": {},
   "outputs": [
    {
     "name": "stdout",
     "output_type": "stream",
     "text": [
      "9\n",
      "5\n"
     ]
    }
   ],
   "source": [
    "def sum_list(a, start_with=0):\n",
    "    return sum(a[start_with:])\n",
    "\n",
    "print(sum_list([4, 2, 3]))\n",
    "print(sum_list([4, 2, 3], start_with=1))"
   ]
  },
  {
   "cell_type": "code",
   "execution_count": 53,
   "metadata": {},
   "outputs": [
    {
     "ename": "SyntaxError",
     "evalue": "non-default argument follows default argument (<ipython-input-53-acd466c9b88b>, line 1)",
     "output_type": "error",
     "traceback": [
      "\u001b[0;36m  File \u001b[0;32m\"<ipython-input-53-acd466c9b88b>\"\u001b[0;36m, line \u001b[0;32m1\u001b[0m\n\u001b[0;31m    def sum_list(start_with=0, a):\u001b[0m\n\u001b[0m                ^\u001b[0m\n\u001b[0;31mSyntaxError\u001b[0m\u001b[0;31m:\u001b[0m non-default argument follows default argument\n"
     ]
    }
   ],
   "source": [
    "def sum_list(start_with=0, a):\n",
    "    return sum(a[start_with:])"
   ]
  },
  {
   "cell_type": "markdown",
   "metadata": {},
   "source": [
    "### Ожидание vs. Реальность"
   ]
  },
  {
   "cell_type": "code",
   "execution_count": 32,
   "metadata": {},
   "outputs": [],
   "source": [
    "def append_one_list(a=[]):\n",
    "    print(\"\\tBefore:\", a)\n",
    "    a.append(1)\n",
    "    print(\"\\tAfter: \", a)"
   ]
  },
  {
   "cell_type": "code",
   "execution_count": 55,
   "metadata": {},
   "outputs": [
    {
     "name": "stdout",
     "output_type": "stream",
     "text": [
      "Before: [1, 2, 3]\n",
      "==============================\n",
      "\tBefore: [1, 2, 3]\n",
      "\tAfter:  [1, 2, 3, 1]\n",
      "\tBefore: [1, 2, 3, 1]\n",
      "\tAfter:  [1, 2, 3, 1, 1]\n",
      "\tBefore: [1, 2, 3, 1, 1]\n",
      "\tAfter:  [1, 2, 3, 1, 1, 1]\n",
      "==============================\n",
      "After:  [1, 2, 3, 1, 1, 1]\n"
     ]
    }
   ],
   "source": [
    "a = [1, 2, 3]\n",
    "\n",
    "print(\"Before:\", a)\n",
    "print(\"=\" * 30)\n",
    "append_one_list(a)\n",
    "append_one_list(a)\n",
    "append_one_list(a)\n",
    "print(\"=\" * 30)\n",
    "print(\"After: \", a)"
   ]
  },
  {
   "cell_type": "code",
   "execution_count": 56,
   "metadata": {},
   "outputs": [
    {
     "name": "stdout",
     "output_type": "stream",
     "text": [
      "Before: None\n",
      "==============================\n",
      "\tBefore: []\n",
      "\tAfter:  [1]\n",
      "\tBefore: [1]\n",
      "\tAfter:  [1, 1]\n",
      "\tBefore: [1, 1]\n",
      "\tAfter:  [1, 1, 1]\n",
      "==============================\n",
      "After:  None\n"
     ]
    }
   ],
   "source": [
    "print(\"Before:\", None)\n",
    "print(\"=\" * 30)\n",
    "append_one_list()\n",
    "append_one_list()\n",
    "append_one_list()\n",
    "print(\"=\" * 30)\n",
    "print(\"After: \", None)"
   ]
  },
  {
   "cell_type": "code",
   "execution_count": 57,
   "metadata": {},
   "outputs": [
    {
     "data": {
      "text/plain": [
       "([1, 1, 1],)"
      ]
     },
     "execution_count": 57,
     "metadata": {},
     "output_type": "execute_result"
    }
   ],
   "source": [
    "append_one_list.__defaults__"
   ]
  },
  {
   "cell_type": "code",
   "execution_count": 58,
   "metadata": {},
   "outputs": [],
   "source": [
    "def append_one_list(a=None):\n",
    "    if a is None:\n",
    "        a = []\n",
    "    \n",
    "    print(\"\\tBefore:\", a)\n",
    "    a.append(1)\n",
    "    print(\"\\tAfter: \", a)\n",
    "    \n",
    "def append_one_list(a=None):\n",
    "    a = a or []\n",
    "    \n",
    "    print(\"\\tBefore:\", a)\n",
    "    a.append(1)\n",
    "    print(\"\\tAfter: \", a)"
   ]
  },
  {
   "cell_type": "code",
   "execution_count": 59,
   "metadata": {},
   "outputs": [
    {
     "name": "stdout",
     "output_type": "stream",
     "text": [
      "Before: [1, 2, 3]\n",
      "==============================\n",
      "\tBefore: [1, 2, 3]\n",
      "\tAfter:  [1, 2, 3, 1]\n",
      "\tBefore: [1, 2, 3, 1]\n",
      "\tAfter:  [1, 2, 3, 1, 1]\n",
      "\tBefore: [1, 2, 3, 1, 1]\n",
      "\tAfter:  [1, 2, 3, 1, 1, 1]\n",
      "==============================\n",
      "After:  [1, 2, 3, 1, 1, 1]\n"
     ]
    }
   ],
   "source": [
    "a = [1, 2, 3]\n",
    "\n",
    "print(\"Before:\", a)\n",
    "print(\"=\" * 30)\n",
    "append_one_list(a)\n",
    "append_one_list(a)\n",
    "append_one_list(a)\n",
    "print(\"=\" * 30)\n",
    "print(\"After: \", a)"
   ]
  },
  {
   "cell_type": "code",
   "execution_count": 60,
   "metadata": {},
   "outputs": [
    {
     "name": "stdout",
     "output_type": "stream",
     "text": [
      "Before: None\n",
      "==============================\n",
      "\tBefore: []\n",
      "\tAfter:  [1]\n",
      "\tBefore: []\n",
      "\tAfter:  [1]\n",
      "\tBefore: []\n",
      "\tAfter:  [1]\n",
      "==============================\n",
      "After:  None\n"
     ]
    }
   ],
   "source": [
    "print(\"Before:\", None)\n",
    "print(\"=\" * 30)\n",
    "append_one_list()\n",
    "append_one_list()\n",
    "append_one_list()\n",
    "print(\"=\" * 30)\n",
    "print(\"After: \", None)"
   ]
  },
  {
   "cell_type": "markdown",
   "metadata": {},
   "source": [
    "# Элементы функционального программирования"
   ]
  },
  {
   "cell_type": "markdown",
   "metadata": {},
   "source": [
    "## Анонимные функции (или lambda-функции)"
   ]
  },
  {
   "cell_type": "code",
   "execution_count": 61,
   "metadata": {},
   "outputs": [],
   "source": [
    "result = {\n",
    "    'a': 1,\n",
    "    'b': 3,\n",
    "    'c': 2,\n",
    "    'd': 5,\n",
    "    'f': 4,\n",
    "}"
   ]
  },
  {
   "cell_type": "code",
   "execution_count": 62,
   "metadata": {},
   "outputs": [
    {
     "data": {
      "text/plain": [
       "[('f', 4), ('d', 5), ('c', 2), ('b', 3), ('a', 1)]"
      ]
     },
     "execution_count": 62,
     "metadata": {},
     "output_type": "execute_result"
    }
   ],
   "source": [
    "sorted(result.items(), reverse=True)"
   ]
  },
  {
   "cell_type": "code",
   "execution_count": 63,
   "metadata": {},
   "outputs": [
    {
     "name": "stdout",
     "output_type": "stream",
     "text": [
      "<class 'function'>\n"
     ]
    },
    {
     "data": {
      "text/plain": [
       "[('d', 5), ('f', 4), ('b', 3), ('c', 2), ('a', 1)]"
      ]
     },
     "execution_count": 63,
     "metadata": {},
     "output_type": "execute_result"
    }
   ],
   "source": [
    "def func_key(pair):\n",
    "    return pair[1]\n",
    "\n",
    "print(type(func_key))\n",
    "\n",
    "sorted(result.items(), key=func_key, reverse=True)"
   ]
  },
  {
   "cell_type": "code",
   "execution_count": 64,
   "metadata": {},
   "outputs": [
    {
     "data": {
      "text/plain": [
       "[('d', 5), ('f', 4), ('b', 3), ('c', 2), ('a', 1)]"
      ]
     },
     "execution_count": 64,
     "metadata": {},
     "output_type": "execute_result"
    }
   ],
   "source": [
    "sorted(result.items(), key=lambda pair: pair[1], reverse=True)"
   ]
  },
  {
   "cell_type": "markdown",
   "metadata": {},
   "source": [
    "Мнемоническое правило:\n",
    "\n",
    "```python\n",
    "def <lambda>(pair):\n",
    "    return pair[1]\n",
    "```"
   ]
  },
  {
   "cell_type": "code",
   "execution_count": 65,
   "metadata": {},
   "outputs": [
    {
     "name": "stdout",
     "output_type": "stream",
     "text": [
      "<class 'function'>\n"
     ]
    }
   ],
   "source": [
    "func = lambda pair: pair[1]\n",
    "print(type(func))"
   ]
  },
  {
   "cell_type": "code",
   "execution_count": 66,
   "metadata": {},
   "outputs": [
    {
     "data": {
      "text/plain": [
       "[('d', 5), ('f', 4), ('b', 3), ('c', 2), ('a', 1)]"
      ]
     },
     "execution_count": 66,
     "metadata": {},
     "output_type": "execute_result"
    }
   ],
   "source": [
    "from operator import itemgetter\n",
    "\n",
    "sorted(result.items(), key=itemgetter(1), reverse=True)"
   ]
  },
  {
   "cell_type": "code",
   "execution_count": 67,
   "metadata": {},
   "outputs": [
    {
     "data": {
      "text/plain": [
       "[-5, -4, -3, -2, -1, 0, 1, 2, 3, 4]"
      ]
     },
     "execution_count": 67,
     "metadata": {},
     "output_type": "execute_result"
    }
   ],
   "source": [
    "a = list(range(-5, 5))\n",
    "a"
   ]
  },
  {
   "cell_type": "code",
   "execution_count": 68,
   "metadata": {},
   "outputs": [
    {
     "data": {
      "text/plain": [
       "[0, -1, 1, -2, 2, -3, 3, -4, 4, -5]"
      ]
     },
     "execution_count": 68,
     "metadata": {},
     "output_type": "execute_result"
    }
   ],
   "source": [
    "sorted(a, key=lambda x: x**2)"
   ]
  },
  {
   "cell_type": "code",
   "execution_count": 69,
   "metadata": {},
   "outputs": [
    {
     "data": {
      "text/plain": [
       "[('a', 1), ('c', 2), ('b', 3), ('f', 4), ('d', 5)]"
      ]
     },
     "execution_count": 69,
     "metadata": {},
     "output_type": "execute_result"
    }
   ],
   "source": [
    "import functools\n",
    "\n",
    "func = functools.partial(sorted, key=itemgetter(1))\n",
    "func(result.items())"
   ]
  },
  {
   "cell_type": "code",
   "execution_count": 70,
   "metadata": {},
   "outputs": [
    {
     "data": {
      "text/plain": [
       "[<function __main__.<lambda>(x)>,\n",
       " <function __main__.<lambda>(x, y)>,\n",
       " <function __main__.<lambda>(s)>]"
      ]
     },
     "execution_count": 70,
     "metadata": {},
     "output_type": "execute_result"
    }
   ],
   "source": [
    "[lambda x: x ** 2,\n",
    " lambda x, y: x < y,\n",
    " lambda s: s.strip().split()]"
   ]
  },
  {
   "cell_type": "markdown",
   "metadata": {},
   "source": [
    "## Функция map"
   ]
  },
  {
   "cell_type": "code",
   "execution_count": 71,
   "metadata": {},
   "outputs": [
    {
     "name": "stdout",
     "output_type": "stream",
     "text": [
      "[0, 1, 2, 3, 4, 5, 6, 7, 8, 9]\n",
      "[0, 1, 4, 9, 16, 25, 36, 49, 64, 81]\n"
     ]
    },
    {
     "data": {
      "text/plain": [
       "<map at 0x7f254003bc18>"
      ]
     },
     "execution_count": 71,
     "metadata": {},
     "output_type": "execute_result"
    }
   ],
   "source": [
    "result_a = range(10)\n",
    "result_b = map(lambda x: x ** 2, result_a)\n",
    "\n",
    "print(list(result_a))\n",
    "print(list(result_b))\n",
    "\n",
    "result_b"
   ]
  },
  {
   "cell_type": "code",
   "execution_count": 72,
   "metadata": {},
   "outputs": [
    {
     "data": {
      "text/plain": [
       "['a', 'b', 'c', 'd', 'f']"
      ]
     },
     "execution_count": 72,
     "metadata": {},
     "output_type": "execute_result"
    }
   ],
   "source": [
    "result = [\n",
    "    ('a', 1),\n",
    "    ('b', 3),\n",
    "    ('c', 2),\n",
    "    ('d', 5),\n",
    "    ('f', 4),\n",
    "]\n",
    "\n",
    "list(map(itemgetter(0), result))"
   ]
  },
  {
   "cell_type": "code",
   "execution_count": 73,
   "metadata": {},
   "outputs": [
    {
     "data": {
      "text/plain": [
       "[1, 2, 3, 4, 5, 6]"
      ]
     },
     "execution_count": 73,
     "metadata": {},
     "output_type": "execute_result"
    }
   ],
   "source": [
    "result = '1,2,3,4,5,6\\n'\n",
    "\n",
    "list(map(int, result.split(',')))"
   ]
  },
  {
   "cell_type": "code",
   "execution_count": 74,
   "metadata": {},
   "outputs": [
    {
     "data": {
      "text/plain": [
       "[101, 100, 117, 99, 97, 116, 105, 111, 110]"
      ]
     },
     "execution_count": 74,
     "metadata": {},
     "output_type": "execute_result"
    }
   ],
   "source": [
    "list(map(ord, 'education'))"
   ]
  },
  {
   "cell_type": "code",
   "execution_count": 75,
   "metadata": {},
   "outputs": [],
   "source": [
    "message = \"\"\"1 2\n",
    "2 3\n",
    "3 4\n",
    "4 5\"\"\"\n",
    "print(message, file=open(\"/tmp/filename\", \"w\"))"
   ]
  },
  {
   "cell_type": "code",
   "execution_count": 76,
   "metadata": {},
   "outputs": [
    {
     "name": "stdout",
     "output_type": "stream",
     "text": [
      "1 2\n",
      "2 3\n",
      "3 4\n",
      "4 5\n"
     ]
    }
   ],
   "source": [
    "with open(\"/tmp/filename\", \"r\") as f_name:\n",
    "    for i, j in map(lambda s: s.strip().split(), f_name):\n",
    "        i, j = map(int, [i, j])\n",
    "        print(i, j)"
   ]
  },
  {
   "cell_type": "code",
   "execution_count": 77,
   "metadata": {},
   "outputs": [
    {
     "name": "stdout",
     "output_type": "stream",
     "text": [
      "1 2\n",
      "2 3\n",
      "3 4\n",
      "4 5\n"
     ]
    }
   ],
   "source": [
    "with open(\"/tmp/filename\", \"r\") as f_name:\n",
    "    for i, j in map(str.split, map(str.strip, f_name)):\n",
    "        i, j = map(int, [i, j])\n",
    "        print(i, j)"
   ]
  },
  {
   "cell_type": "code",
   "execution_count": 78,
   "metadata": {},
   "outputs": [],
   "source": [
    "import operator"
   ]
  },
  {
   "cell_type": "code",
   "execution_count": 79,
   "metadata": {},
   "outputs": [
    {
     "data": {
      "text/plain": [
       "[9, 11, 13]"
      ]
     },
     "execution_count": 79,
     "metadata": {},
     "output_type": "execute_result"
    }
   ],
   "source": [
    "result_a = [5, 6, 7]\n",
    "result_b = [4, 5, 6]\n",
    "\n",
    "list(map(operator.add, result_a, result_b))"
   ]
  },
  {
   "cell_type": "code",
   "execution_count": 80,
   "metadata": {},
   "outputs": [],
   "source": [
    "result = [(5, 4), (6, 5), (7, 6)]"
   ]
  },
  {
   "cell_type": "code",
   "execution_count": 81,
   "metadata": {},
   "outputs": [
    {
     "ename": "TypeError",
     "evalue": "<lambda>() missing 1 required positional argument: 'y'",
     "output_type": "error",
     "traceback": [
      "\u001b[0;31m---------------------------------------------------------------------------\u001b[0m",
      "\u001b[0;31mTypeError\u001b[0m                                 Traceback (most recent call last)",
      "\u001b[0;32m<ipython-input-81-cd0bf2c166d0>\u001b[0m in \u001b[0;36m<module>\u001b[0;34m()\u001b[0m\n\u001b[0;32m----> 1\u001b[0;31m \u001b[0mlist\u001b[0m\u001b[0;34m(\u001b[0m\u001b[0mmap\u001b[0m\u001b[0;34m(\u001b[0m\u001b[0;32mlambda\u001b[0m \u001b[0mx\u001b[0m\u001b[0;34m,\u001b[0m \u001b[0my\u001b[0m\u001b[0;34m:\u001b[0m \u001b[0mx\u001b[0m \u001b[0;34m+\u001b[0m \u001b[0my\u001b[0m\u001b[0;34m,\u001b[0m \u001b[0mresult\u001b[0m\u001b[0;34m)\u001b[0m\u001b[0;34m)\u001b[0m\u001b[0;34m\u001b[0m\u001b[0;34m\u001b[0m\u001b[0m\n\u001b[0m",
      "\u001b[0;31mTypeError\u001b[0m: <lambda>() missing 1 required positional argument: 'y'"
     ]
    }
   ],
   "source": [
    "list(map(lambda x, y: x + y, result))"
   ]
  },
  {
   "cell_type": "code",
   "execution_count": 82,
   "metadata": {},
   "outputs": [
    {
     "ename": "SyntaxError",
     "evalue": "invalid syntax (<ipython-input-82-988a486c5318>, line 1)",
     "output_type": "error",
     "traceback": [
      "\u001b[0;36m  File \u001b[0;32m\"<ipython-input-82-988a486c5318>\"\u001b[0;36m, line \u001b[0;32m1\u001b[0m\n\u001b[0;31m    list(map(lambda (x, y): x + y, result))\u001b[0m\n\u001b[0m                    ^\u001b[0m\n\u001b[0;31mSyntaxError\u001b[0m\u001b[0;31m:\u001b[0m invalid syntax\n"
     ]
    }
   ],
   "source": [
    "list(map(lambda (x, y): x + y, result))"
   ]
  },
  {
   "cell_type": "markdown",
   "metadata": {},
   "source": [
    "В стандарте больше нет поддержки кортежей как аргументов, см. [PEP-3113](https://www.python.org/dev/peps/pep-3113/)."
   ]
  },
  {
   "cell_type": "code",
   "execution_count": 83,
   "metadata": {},
   "outputs": [
    {
     "name": "stdout",
     "output_type": "stream",
     "text": [
      "9 11 13\n"
     ]
    }
   ],
   "source": [
    "%%python2\n",
    "\n",
    "from __future__ import print_function\n",
    "\n",
    "result = [(5, 4), (6, 5), (7, 6)]\n",
    "result = map(lambda (x, y): x + y, result)\n",
    "print(*result)"
   ]
  },
  {
   "cell_type": "code",
   "execution_count": 84,
   "metadata": {},
   "outputs": [
    {
     "data": {
      "text/plain": [
       "[9, 11, 13]"
      ]
     },
     "execution_count": 84,
     "metadata": {},
     "output_type": "execute_result"
    }
   ],
   "source": [
    "list(map(lambda p: p[0] + p[1], result))"
   ]
  },
  {
   "cell_type": "code",
   "execution_count": 85,
   "metadata": {},
   "outputs": [
    {
     "data": {
      "text/plain": [
       "[9, 11, 13]"
      ]
     },
     "execution_count": 85,
     "metadata": {},
     "output_type": "execute_result"
    }
   ],
   "source": [
    "from itertools import starmap\n",
    "\n",
    "list(starmap(operator.add, result))"
   ]
  },
  {
   "cell_type": "markdown",
   "metadata": {},
   "source": [
    "## Функция reduce"
   ]
  },
  {
   "cell_type": "code",
   "execution_count": 86,
   "metadata": {},
   "outputs": [],
   "source": [
    "from functools import reduce"
   ]
  },
  {
   "cell_type": "code",
   "execution_count": 87,
   "metadata": {},
   "outputs": [],
   "source": [
    "def my_reduce(func, seq):\n",
    "    res = seq[0]\n",
    "    for elem in seq[1:]:\n",
    "        res = func(res, elem)\n",
    "    return res"
   ]
  },
  {
   "cell_type": "markdown",
   "metadata": {},
   "source": [
    "<img src=\"files/reduce.png\">"
   ]
  },
  {
   "cell_type": "code",
   "execution_count": 88,
   "metadata": {},
   "outputs": [
    {
     "name": "stdout",
     "output_type": "stream",
     "text": [
      "10\n",
      "24\n"
     ]
    }
   ],
   "source": [
    "print(my_reduce(lambda x, y: x + y, [1, 2, 3, 4]))\n",
    "print(my_reduce(lambda x, y: x * y, [1, 2, 3, 4]))"
   ]
  },
  {
   "cell_type": "code",
   "execution_count": 89,
   "metadata": {},
   "outputs": [
    {
     "name": "stdout",
     "output_type": "stream",
     "text": [
      "10\n",
      "24\n"
     ]
    }
   ],
   "source": [
    "print(reduce(lambda x, y: x + y, [1, 2, 3, 4]))\n",
    "print(reduce(lambda x, y: x * y, [1, 2, 3, 4]))"
   ]
  },
  {
   "cell_type": "code",
   "execution_count": 90,
   "metadata": {},
   "outputs": [
    {
     "name": "stdout",
     "output_type": "stream",
     "text": [
      "10\n",
      "24\n"
     ]
    }
   ],
   "source": [
    "from operator import add, mul\n",
    "\n",
    "print(reduce(add, [1, 2, 3, 4]))\n",
    "print(reduce(mul, [1, 2, 3, 4]))"
   ]
  },
  {
   "cell_type": "markdown",
   "metadata": {},
   "source": [
    "## Функция filter"
   ]
  },
  {
   "cell_type": "code",
   "execution_count": 91,
   "metadata": {},
   "outputs": [
    {
     "data": {
      "text/plain": [
       "<filter at 0x7f2540709588>"
      ]
     },
     "execution_count": 91,
     "metadata": {},
     "output_type": "execute_result"
    }
   ],
   "source": [
    "filter(lambda x: x > 0, range(-5, 5))"
   ]
  },
  {
   "cell_type": "code",
   "execution_count": 92,
   "metadata": {},
   "outputs": [
    {
     "data": {
      "text/plain": [
       "[1, 2, 3, 4]"
      ]
     },
     "execution_count": 92,
     "metadata": {},
     "output_type": "execute_result"
    }
   ],
   "source": [
    "list(filter(lambda x: x > 0, range(-5, 5)))"
   ]
  },
  {
   "cell_type": "code",
   "execution_count": 93,
   "metadata": {},
   "outputs": [
    {
     "data": {
      "text/plain": [
       "[-5, -3, -1, 1, 3]"
      ]
     },
     "execution_count": 93,
     "metadata": {},
     "output_type": "execute_result"
    }
   ],
   "source": [
    "list(filter(lambda x: x % 2, range(-5, 5)))"
   ]
  },
  {
   "cell_type": "code",
   "execution_count": 94,
   "metadata": {},
   "outputs": [
    {
     "data": {
      "text/plain": [
       "['а', 'р', 'а', 'е', 'е', 'и', 'е', 'д']"
      ]
     },
     "execution_count": 94,
     "metadata": {},
     "output_type": "execute_result"
    }
   ],
   "source": [
    "list(filter(lambda x: x not in {'п', 'л'}, \"параллелепипед\"))"
   ]
  },
  {
   "cell_type": "code",
   "execution_count": 95,
   "metadata": {},
   "outputs": [],
   "source": [
    "result = {\n",
    "    'key1': 1,\n",
    "    'key2': 2,\n",
    "    'key3': 3,\n",
    "    'art': 'Hermitage',\n",
    "    'ord': 7,\n",
    "}"
   ]
  },
  {
   "cell_type": "code",
   "execution_count": 96,
   "metadata": {},
   "outputs": [
    {
     "data": {
      "text/plain": [
       "{'key1': 1, 'key2': 2, 'key3': 3}"
      ]
     },
     "execution_count": 96,
     "metadata": {},
     "output_type": "execute_result"
    }
   ],
   "source": [
    "{k: result[k] for k in filter(lambda k: k.startswith('key'), result)}"
   ]
  },
  {
   "cell_type": "code",
   "execution_count": 97,
   "metadata": {},
   "outputs": [
    {
     "data": {
      "text/plain": [
       "{'key1': 1, 'key2': 2, 'key3': 3}"
      ]
     },
     "execution_count": 97,
     "metadata": {},
     "output_type": "execute_result"
    }
   ],
   "source": [
    "dict(filter(lambda p: p[0].startswith('key'), result.items()))"
   ]
  },
  {
   "cell_type": "code",
   "execution_count": 98,
   "metadata": {},
   "outputs": [
    {
     "data": {
      "text/plain": [
       "{'key1': 1, 'key2': 2, 'key3': 3}"
      ]
     },
     "execution_count": 98,
     "metadata": {},
     "output_type": "execute_result"
    }
   ],
   "source": [
    "{k: v for k, v in result.items() if k.startswith('key')}"
   ]
  },
  {
   "cell_type": "markdown",
   "metadata": {},
   "source": [
    "## Функция zip"
   ]
  },
  {
   "cell_type": "markdown",
   "metadata": {},
   "source": [
    "<img src=\"files/zip.png\" width=\"420px\">"
   ]
  },
  {
   "cell_type": "code",
   "execution_count": 99,
   "metadata": {},
   "outputs": [
    {
     "data": {
      "text/plain": [
       "<zip at 0x7f254002c1c8>"
      ]
     },
     "execution_count": 99,
     "metadata": {},
     "output_type": "execute_result"
    }
   ],
   "source": [
    "zip(range(10), \"параллелепипед\")"
   ]
  },
  {
   "cell_type": "code",
   "execution_count": 100,
   "metadata": {},
   "outputs": [
    {
     "data": {
      "text/plain": [
       "[(0, 'п'),\n",
       " (1, 'а'),\n",
       " (2, 'р'),\n",
       " (3, 'а'),\n",
       " (4, 'л'),\n",
       " (5, 'л'),\n",
       " (6, 'е'),\n",
       " (7, 'л'),\n",
       " (8, 'е'),\n",
       " (9, 'п')]"
      ]
     },
     "execution_count": 100,
     "metadata": {},
     "output_type": "execute_result"
    }
   ],
   "source": [
    "list(zip(range(10), \"параллелепипед\"))"
   ]
  },
  {
   "cell_type": "code",
   "execution_count": 101,
   "metadata": {},
   "outputs": [
    {
     "data": {
      "text/plain": [
       "[('п', 0, True),\n",
       " ('а', 1, True),\n",
       " ('р', 2, True),\n",
       " ('а', 3, False),\n",
       " ('л', 4, False),\n",
       " ('л', 5, True),\n",
       " ('е', 6, False)]"
      ]
     },
     "execution_count": 101,
     "metadata": {},
     "output_type": "execute_result"
    }
   ],
   "source": [
    "list(zip(\n",
    "    \"параллелепипед\",\n",
    "    range(10),\n",
    "    [True, True, True, False, False, True, False]\n",
    "))"
   ]
  },
  {
   "cell_type": "code",
   "execution_count": 102,
   "metadata": {},
   "outputs": [
    {
     "data": {
      "text/plain": [
       "[(0, 'п'),\n",
       " (1, 'а'),\n",
       " (2, 'р'),\n",
       " (3, 'а'),\n",
       " (4, 'л'),\n",
       " (5, 'л'),\n",
       " (6, 'е'),\n",
       " (7, 'л'),\n",
       " (8, 'е'),\n",
       " (9, 'п'),\n",
       " (10, 'и'),\n",
       " (11, 'п'),\n",
       " (12, 'е'),\n",
       " (13, 'д')]"
      ]
     },
     "execution_count": 102,
     "metadata": {},
     "output_type": "execute_result"
    }
   ],
   "source": [
    "s = \"параллелепипед\"\n",
    "list(zip(range(len(s)), s))"
   ]
  },
  {
   "cell_type": "code",
   "execution_count": 103,
   "metadata": {},
   "outputs": [
    {
     "data": {
      "text/plain": [
       "<enumerate at 0x7f2540706048>"
      ]
     },
     "execution_count": 103,
     "metadata": {},
     "output_type": "execute_result"
    }
   ],
   "source": [
    "enumerate(\"параллелепипед\")"
   ]
  },
  {
   "cell_type": "code",
   "execution_count": 104,
   "metadata": {},
   "outputs": [
    {
     "data": {
      "text/plain": [
       "[(0, 'п'),\n",
       " (1, 'а'),\n",
       " (2, 'р'),\n",
       " (3, 'а'),\n",
       " (4, 'л'),\n",
       " (5, 'л'),\n",
       " (6, 'е'),\n",
       " (7, 'л'),\n",
       " (8, 'е'),\n",
       " (9, 'п'),\n",
       " (10, 'и'),\n",
       " (11, 'п'),\n",
       " (12, 'е'),\n",
       " (13, 'д')]"
      ]
     },
     "execution_count": 104,
     "metadata": {},
     "output_type": "execute_result"
    }
   ],
   "source": [
    "list(enumerate(\"параллелепипед\"))"
   ]
  },
  {
   "cell_type": "code",
   "execution_count": 105,
   "metadata": {},
   "outputs": [
    {
     "name": "stdout",
     "output_type": "stream",
     "text": [
      "0 \t п\n",
      "1 \t а\n",
      "2 \t р\n",
      "3 \t а\n",
      "4 \t л\n",
      "5 \t л\n",
      "6 \t е\n",
      "7 \t л\n",
      "8 \t е\n",
      "9 \t п\n",
      "10 \t и\n",
      "11 \t п\n",
      "12 \t е\n",
      "13 \t д\n"
     ]
    }
   ],
   "source": [
    "for i, c in enumerate(\"параллелепипед\"):\n",
    "    print(i, '\\t', c)"
   ]
  },
  {
   "cell_type": "code",
   "execution_count": 106,
   "metadata": {},
   "outputs": [
    {
     "data": {
      "text/plain": [
       "[(0, 'п'),\n",
       " (1, 'а'),\n",
       " (2, 'р'),\n",
       " (3, 'а'),\n",
       " (4, 'л'),\n",
       " (5, 'л'),\n",
       " (6, 'е'),\n",
       " (7, 'л'),\n",
       " (8, 'е'),\n",
       " (9, 'п'),\n",
       " (None, 'и'),\n",
       " (None, 'п'),\n",
       " (None, 'е'),\n",
       " (None, 'д')]"
      ]
     },
     "execution_count": 106,
     "metadata": {},
     "output_type": "execute_result"
    }
   ],
   "source": [
    "from itertools import zip_longest\n",
    "\n",
    "list(zip_longest(range(10), \"параллелепипед\"))"
   ]
  },
  {
   "cell_type": "code",
   "execution_count": 107,
   "metadata": {},
   "outputs": [
    {
     "data": {
      "text/plain": [
       "[(0, 'п'),\n",
       " (1, 'а'),\n",
       " (2, 'р'),\n",
       " (3, 'а'),\n",
       " (4, 'л'),\n",
       " (5, 'л'),\n",
       " (6, 'е'),\n",
       " (7, 'л'),\n",
       " (8, 'е'),\n",
       " (9, 'п'),\n",
       " (-1, 'и'),\n",
       " (-1, 'п'),\n",
       " (-1, 'е'),\n",
       " (-1, 'д')]"
      ]
     },
     "execution_count": 107,
     "metadata": {},
     "output_type": "execute_result"
    }
   ],
   "source": [
    "list(zip_longest(range(10), \"параллелепипед\", fillvalue=-1))"
   ]
  },
  {
   "cell_type": "code",
   "execution_count": 108,
   "metadata": {},
   "outputs": [
    {
     "data": {
      "text/plain": [
       "[('п', 0, True),\n",
       " ('а', 1, True),\n",
       " ('р', 2, True),\n",
       " ('а', 3, False),\n",
       " ('л', 4, False),\n",
       " ('л', 5, True),\n",
       " ('е', 6, False),\n",
       " ('л', 7, None),\n",
       " ('е', 8, None),\n",
       " ('п', 9, None),\n",
       " ('и', None, None),\n",
       " ('п', None, None),\n",
       " ('е', None, None),\n",
       " ('д', None, None)]"
      ]
     },
     "execution_count": 108,
     "metadata": {},
     "output_type": "execute_result"
    }
   ],
   "source": [
    "list(zip_longest(\n",
    "    \"параллелепипед\",\n",
    "    range(10),\n",
    "    [True, True, True, False, False, True, False]\n",
    "))"
   ]
  },
  {
   "cell_type": "code",
   "execution_count": 109,
   "metadata": {},
   "outputs": [
    {
     "data": {
      "text/plain": [
       "[('п', -5, True),\n",
       " ('а', -4, True),\n",
       " ('р', -3, True),\n",
       " ('а', -2, False),\n",
       " ('л', -1, False),\n",
       " ('л', 0, True),\n",
       " ('е', 1, False)]"
      ]
     },
     "execution_count": 109,
     "metadata": {},
     "output_type": "execute_result"
    }
   ],
   "source": [
    "result = list(zip(\n",
    "    \"параллелепипед\",\n",
    "    range(-5, 5),\n",
    "    [True, True, True, False, False, True, False]\n",
    "))\n",
    "\n",
    "result"
   ]
  },
  {
   "cell_type": "code",
   "execution_count": 110,
   "metadata": {},
   "outputs": [
    {
     "data": {
      "text/plain": [
       "[-5, -4, -3, -2, -1, 0, 1]"
      ]
     },
     "execution_count": 110,
     "metadata": {},
     "output_type": "execute_result"
    }
   ],
   "source": [
    "list(map(itemgetter(1), result))"
   ]
  },
  {
   "cell_type": "code",
   "execution_count": 111,
   "metadata": {},
   "outputs": [
    {
     "data": {
      "text/plain": [
       "[['п', 'а', 'р', 'а', 'л', 'л', 'е'],\n",
       " [-5, -4, -3, -2, -1, 0, 1],\n",
       " [True, True, True, False, False, True, False]]"
      ]
     },
     "execution_count": 111,
     "metadata": {},
     "output_type": "execute_result"
    }
   ],
   "source": [
    "[list(map(itemgetter(i), result)) for i in range(len(result[0]))]"
   ]
  },
  {
   "cell_type": "code",
   "execution_count": 112,
   "metadata": {},
   "outputs": [
    {
     "data": {
      "text/plain": [
       "[('п', 'а', 'р', 'а', 'л', 'л', 'е'),\n",
       " (-5, -4, -3, -2, -1, 0, 1),\n",
       " (True, True, True, False, False, True, False)]"
      ]
     },
     "execution_count": 112,
     "metadata": {},
     "output_type": "execute_result"
    }
   ],
   "source": [
    "list(zip(*result))"
   ]
  },
  {
   "cell_type": "markdown",
   "metadata": {},
   "source": [
    "# Разбор домашки! 😲"
   ]
  },
  {
   "cell_type": "markdown",
   "metadata": {},
   "source": [
    "### Задача B. Сложная сортировка\n",
    "\n",
    "Дан массив $a_1$,...,$a_n$ из $n$ натуральных чисел.\n",
    "\n",
    "Требуется отсортировать числа в массиве в порядке возрастания суммы цифр, а при равной сумме цифр — по возрастанию самого числа.\n",
    "\n",
    "*Олимпиада \"Я — профессионал\". Направление \"Программирование и ИТ\". Онлайн этап. 2019 г.*"
   ]
  },
  {
   "cell_type": "code",
   "execution_count": 113,
   "metadata": {},
   "outputs": [
    {
     "data": {
      "text/plain": [
       "['22', '14', '23']"
      ]
     },
     "execution_count": 113,
     "metadata": {},
     "output_type": "execute_result"
    }
   ],
   "source": [
    "s = \"14 23 22\"\n",
    "\n",
    "sorted(s.split(), key=lambda n: (sum(map(int, n)), int(n)))"
   ]
  },
  {
   "cell_type": "markdown",
   "metadata": {},
   "source": [
    "### Задача D. За линией фронта\n",
    "\n",
    "Роберт успешно справился с вылазкой в тыл врага и раздобыл одну полоску из тетради в клетку длиной N клеток. Кроме того в руки Роберта попал лист изменений этой полоски. Враг выбирал две позиции i и j и записывал между ними новое сообщение (оба конца/позиции включены). При этом, если новое сообщение накладывалось на старое, то старое становилось навсегда утерянным.\n",
    "\n",
    "Напишите программу, которая определит, сколько на полоске осталось не утерянных сообщений.\n",
    "\n",
    "*Онлайн вступительные в Финтех Школу Тинькофф. Весна. 2019 г.*"
   ]
  },
  {
   "cell_type": "code",
   "execution_count": 114,
   "metadata": {},
   "outputs": [],
   "source": [
    "s = \"\"\"\n",
    "8 10\n",
    "2 9\n",
    "1 3\n",
    "\"\"\"\n",
    "s = s.strip().split('\\n')"
   ]
  },
  {
   "cell_type": "code",
   "execution_count": 115,
   "metadata": {},
   "outputs": [
    {
     "name": "stdout",
     "output_type": "stream",
     "text": [
      "1\n"
     ]
    }
   ],
   "source": [
    "messages = []\n",
    "for line in s:\n",
    "    i, j = map(int, line.split())\n",
    "    messages = filter(lambda m: not (m[0] <= i <= m[1] or\n",
    "                                     m[0] <= j <= m[1] or\n",
    "                                     i <= m[0] and m[1] <= j), messages)\n",
    "    messages = list(messages)\n",
    "    messages.append((i, j))\n",
    "print(len(messages))"
   ]
  },
  {
   "cell_type": "code",
   "execution_count": 116,
   "metadata": {},
   "outputs": [
    {
     "name": "stdout",
     "output_type": "stream",
     "text": [
      "1\n"
     ]
    }
   ],
   "source": [
    "from itertools import filterfalse\n",
    "\n",
    "messages = []\n",
    "for line in s:\n",
    "    i, j = map(int, line.split())\n",
    "    messages = filterfalse(lambda m: m[0] <= i <= m[1] or\n",
    "                                     m[0] <= j <= m[1] or\n",
    "                                     i <= m[0] and m[1] <= j, messages)\n",
    "    messages = list(messages)\n",
    "    messages.append((i, j))\n",
    "print(len(messages))"
   ]
  },
  {
   "cell_type": "markdown",
   "metadata": {},
   "source": [
    "# Декораторы"
   ]
  },
  {
   "cell_type": "code",
   "execution_count": 117,
   "metadata": {},
   "outputs": [
    {
     "name": "stdout",
     "output_type": "stream",
     "text": [
      "Hello world!\n"
     ]
    },
    {
     "data": {
      "text/plain": [
       "'greetings'"
      ]
     },
     "execution_count": 117,
     "metadata": {},
     "output_type": "execute_result"
    }
   ],
   "source": [
    "def decorator(func):\n",
    "    return func\n",
    "\n",
    "@decorator\n",
    "def greetings():\n",
    "    return \"Hello world!\"\n",
    "\n",
    "print(greetings())\n",
    "\n",
    "greetings.__name__"
   ]
  },
  {
   "cell_type": "code",
   "execution_count": 118,
   "metadata": {},
   "outputs": [
    {
     "name": "stdout",
     "output_type": "stream",
     "text": [
      "Bonjour le monde!\n"
     ]
    },
    {
     "data": {
      "text/plain": [
       "'func_new'"
      ]
     },
     "execution_count": 118,
     "metadata": {},
     "output_type": "execute_result"
    }
   ],
   "source": [
    "def decorator(func):\n",
    "    def func_new():\n",
    "        return \"Bonjour le monde!\"\n",
    "    return func_new\n",
    "\n",
    "@decorator\n",
    "def greetings():\n",
    "    return \"Hello world!\"\n",
    "\n",
    "print(greetings())\n",
    "\n",
    "greetings.__name__"
   ]
  },
  {
   "cell_type": "code",
   "execution_count": 119,
   "metadata": {},
   "outputs": [],
   "source": [
    "def logger(func):\n",
    "    def wrapper(a):\n",
    "        result = func(a)\n",
    "        with open('/tmp/decorator.logs', 'a') as f_output:\n",
    "            # Способ 1 писать в файл\n",
    "            # f_output.write(\"num = {}; result = {}\\n\".format(len(a), result))\n",
    "            \n",
    "            # Способ 2 писать в файл\n",
    "            print(\"num = {}; result = {}\".format(len(a), result), file=f_output)\n",
    "        return result\n",
    "    return wrapper\n",
    "\n",
    "@logger\n",
    "def summator(a):\n",
    "    return sum(a)"
   ]
  },
  {
   "cell_type": "code",
   "execution_count": 120,
   "metadata": {},
   "outputs": [
    {
     "data": {
      "text/plain": [
       "9"
      ]
     },
     "execution_count": 120,
     "metadata": {},
     "output_type": "execute_result"
    }
   ],
   "source": [
    "summator([1, 5, 3, 0])"
   ]
  },
  {
   "cell_type": "code",
   "execution_count": 121,
   "metadata": {},
   "outputs": [
    {
     "name": "stdout",
     "output_type": "stream",
     "text": [
      "num = 4; result = 9\r\n"
     ]
    }
   ],
   "source": [
    "!cat /tmp/decorator.logs"
   ]
  },
  {
   "cell_type": "code",
   "execution_count": 122,
   "metadata": {},
   "outputs": [
    {
     "data": {
      "text/plain": [
       "15"
      ]
     },
     "execution_count": 122,
     "metadata": {},
     "output_type": "execute_result"
    }
   ],
   "source": [
    "def summator(a):\n",
    "    return sum(a)\n",
    "\n",
    "logger(summator)([5, 5, 5])"
   ]
  },
  {
   "cell_type": "code",
   "execution_count": 123,
   "metadata": {},
   "outputs": [],
   "source": [
    "def logger(func):\n",
    "    def wrapper(*args, **argv):\n",
    "        result = func(*args, **argv)\n",
    "        with open('/tmp/decorator.logs', 'a') as f_output:\n",
    "            f_output.write(\"func = \\\"{}\\\"; result = {}\\n\".format(func.__name__, result))\n",
    "        return result\n",
    "    return wrapper\n",
    "\n",
    "@logger\n",
    "def summator(a):\n",
    "    return sum(a)\n",
    "\n",
    "@logger\n",
    "def mod_taker(a, mod):\n",
    "    return list(map(lambda x: x % mod, a))"
   ]
  },
  {
   "cell_type": "code",
   "execution_count": 124,
   "metadata": {},
   "outputs": [
    {
     "data": {
      "text/plain": [
       "10"
      ]
     },
     "execution_count": 124,
     "metadata": {},
     "output_type": "execute_result"
    }
   ],
   "source": [
    "summator([1, 2, 3, 4])"
   ]
  },
  {
   "cell_type": "code",
   "execution_count": 125,
   "metadata": {},
   "outputs": [
    {
     "data": {
      "text/plain": [
       "[1, 2, 0, 1]"
      ]
     },
     "execution_count": 125,
     "metadata": {},
     "output_type": "execute_result"
    }
   ],
   "source": [
    "mod_taker([1, 2, 3, 4], 3)"
   ]
  },
  {
   "cell_type": "code",
   "execution_count": 126,
   "metadata": {},
   "outputs": [
    {
     "name": "stdout",
     "output_type": "stream",
     "text": [
      "num = 4; result = 9\r\n",
      "num = 3; result = 15\r\n",
      "func = \"summator\"; result = 10\r\n",
      "func = \"mod_taker\"; result = [1, 2, 0, 1]\r\n"
     ]
    }
   ],
   "source": [
    "!cat /tmp/decorator.logs"
   ]
  },
  {
   "cell_type": "code",
   "execution_count": 127,
   "metadata": {},
   "outputs": [
    {
     "data": {
      "text/plain": [
       "'wrapper'"
      ]
     },
     "execution_count": 127,
     "metadata": {},
     "output_type": "execute_result"
    }
   ],
   "source": [
    "summator.__name__"
   ]
  },
  {
   "cell_type": "code",
   "execution_count": 128,
   "metadata": {},
   "outputs": [],
   "source": [
    "import functools\n",
    "\n",
    "def logger(func):\n",
    "    @functools.wraps(func)\n",
    "    def wrapper(*args, **argv):\n",
    "        result = func(*args, **argv)\n",
    "        with open('/tmp/decorator.logs', 'a') as f_output:\n",
    "            f_output.write(\"func = \\\"{}\\\"; result = {}\\n\".format(func.__name__, result))\n",
    "        return result\n",
    "    return wrapper\n",
    "\n",
    "@logger\n",
    "def summator(a):\n",
    "    return sum(a)"
   ]
  },
  {
   "cell_type": "code",
   "execution_count": 129,
   "metadata": {},
   "outputs": [
    {
     "data": {
      "text/plain": [
       "'summator'"
      ]
     },
     "execution_count": 129,
     "metadata": {},
     "output_type": "execute_result"
    }
   ],
   "source": [
    "summator.__name__"
   ]
  },
  {
   "cell_type": "code",
   "execution_count": 130,
   "metadata": {},
   "outputs": [
    {
     "data": {
      "text/plain": [
       "11"
      ]
     },
     "execution_count": 130,
     "metadata": {},
     "output_type": "execute_result"
    }
   ],
   "source": [
    "def logger(filename):\n",
    "    def decorator(func):\n",
    "        def wrapper(*args, **argv):\n",
    "            result = func(*args, **argv)\n",
    "            with open(filename, 'a') as f_output:\n",
    "                f_output.write(\"func = \\\"{}\\\"; result = {}\\n\".format(func.__name__, result))\n",
    "            return result\n",
    "        return wrapper\n",
    "    return decorator\n",
    "\n",
    "@logger(\"/tmp/decorator2.logs\")\n",
    "def summator(a):\n",
    "    return sum(a)\n",
    "\n",
    "summator([1, 2, 3, 5])"
   ]
  },
  {
   "cell_type": "code",
   "execution_count": 131,
   "metadata": {},
   "outputs": [
    {
     "name": "stdout",
     "output_type": "stream",
     "text": [
      "func = \"summator\"; result = 11\r\n"
     ]
    }
   ],
   "source": [
    "!cat /tmp/decorator2.logs"
   ]
  },
  {
   "cell_type": "code",
   "execution_count": 132,
   "metadata": {},
   "outputs": [
    {
     "name": "stdout",
     "output_type": "stream",
     "text": [
      "256\n",
      "256\n",
      "16\n",
      "256\n",
      "16\n"
     ]
    }
   ],
   "source": [
    "from time import sleep\n",
    "\n",
    "def cached(func):\n",
    "    cache = dict()\n",
    "    @functools.wraps(func)\n",
    "    def wrapper(*args):\n",
    "        key = (func, args)\n",
    "        if key not in cache:\n",
    "            cache[key] = func(*args)\n",
    "        return cache[key]\n",
    "    return wrapper\n",
    "\n",
    "@cached\n",
    "def power2(x):\n",
    "    sleep(3)\n",
    "    return 2 ** x\n",
    "\n",
    "print(power2(8))\n",
    "print(power2(8))\n",
    "print(power2(4))\n",
    "print(power2(8))\n",
    "print(power2(4))"
   ]
  },
  {
   "cell_type": "code",
   "execution_count": 133,
   "metadata": {},
   "outputs": [
    {
     "name": "stdout",
     "output_type": "stream",
     "text": [
      "256\n",
      "256\n",
      "16\n",
      "256\n",
      "16\n"
     ]
    }
   ],
   "source": [
    "from functools import lru_cache\n",
    "\n",
    "@lru_cache(maxsize=5)\n",
    "def power2(x):\n",
    "    sleep(3)\n",
    "    return 2 ** x\n",
    "\n",
    "print(power2(8))\n",
    "print(power2(8))\n",
    "print(power2(4))\n",
    "print(power2(8))\n",
    "print(power2(4))"
   ]
  },
  {
   "cell_type": "code",
   "execution_count": 134,
   "metadata": {},
   "outputs": [
    {
     "name": "stdout",
     "output_type": "stream",
     "text": [
      "Entering 1st decorator...\n",
      "Entering 2nd decorator...\n",
      "Hello world!\n",
      "Exiting 2nd decorator...\n",
      "Exiting 1st decorator...\n"
     ]
    }
   ],
   "source": [
    "def decorator1(func):\n",
    "    def wrapped():\n",
    "        print('Entering 1st decorator...')\n",
    "        result = func()\n",
    "        print('Exiting 1st decorator...')\n",
    "        return result\n",
    "    return wrapped\n",
    "\n",
    "def decorator2(func):\n",
    "    def wrapped():\n",
    "        print('Entering 2nd decorator...')\n",
    "        result = func()\n",
    "        print('Exiting 2nd decorator...')\n",
    "        return result\n",
    "    return wrapped\n",
    "\n",
    "@decorator1\n",
    "@decorator2\n",
    "def greetings():\n",
    "    print(\"Hello world!\")\n",
    "    \n",
    "greetings()"
   ]
  },
  {
   "cell_type": "code",
   "execution_count": null,
   "metadata": {},
   "outputs": [],
   "source": []
  }
 ],
 "metadata": {
  "kernelspec": {
   "display_name": "Python 3",
   "language": "python",
   "name": "python3"
  },
  "language_info": {
   "codemirror_mode": {
    "name": "ipython",
    "version": 3
   },
   "file_extension": ".py",
   "mimetype": "text/x-python",
   "name": "python",
   "nbconvert_exporter": "python",
   "pygments_lexer": "ipython3",
   "version": "3.7.1"
  }
 },
 "nbformat": 4,
 "nbformat_minor": 2
}
