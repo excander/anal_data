{
 "cells": [
  {
   "cell_type": "code",
   "execution_count": 6,
   "metadata": {},
   "outputs": [],
   "source": [
    "from selenium.common.exceptions import NoSuchElementException\n",
    "from selenium import webdriver\n",
    "from selenium.webdriver.common.keys import Keys\n",
    "from bs4 import BeautifulSoup\n",
    "import requests\n",
    "import pandas as pd\n",
    "import time"
   ]
  },
  {
   "cell_type": "code",
   "execution_count": 8,
   "metadata": {},
   "outputs": [
    {
     "name": "stdout",
     "output_type": "stream",
     "text": [
      "Книги автора Дарья Донцова загружены;\n",
      "Книги автора Джеймс Роллинс загружены;\n",
      "Книги автора Макс Фрай загружены;\n",
      "Книги автора Эрин Хантер загружены;\n",
      "Книги автора Дмитрий Емец загружены;\n"
     ]
    }
   ],
   "source": [
    "authors_dict = {\n",
    "  \"Дарья Донцова\":  29369,\n",
    "  \"Джеймс Роллинс\": 29442,\n",
    "  \"Макс Фрай\":      102994,\n",
    "  \"Эрин Хантер\":    26149,\n",
    "  \"Дмитрий Емец\":   35952\n",
    "}\n",
    "\n",
    "chrome_options = webdriver.ChromeOptions()\n",
    "chrome_options.add_argument(\"--incognito\")\n",
    "\n",
    "def show_pages(author):\n",
    "    SCROLL_PAUSE_TIME = 1\n",
    "\n",
    "    last_height = driver.execute_script(\"return document.body.scrollHeight\")\n",
    "    while True:\n",
    "        driver.execute_script(\"window.scrollTo(0, document.body.scrollHeight);\")\n",
    "        time.sleep(SCROLL_PAUSE_TIME)\n",
    "        new_height = driver.execute_script(\"return document.body.scrollHeight\")\n",
    "        if new_height == last_height:\n",
    "            break\n",
    "        last_height = new_height\n",
    "\n",
    "    next_pages = None\n",
    "    try:    \n",
    "        next_pages = driver.find_element_by_xpath(\"//a[@class='ty']\")\n",
    "    except NoSuchElementException:\n",
    "        print(f\"Книги автора {author} загружены;\")\n",
    "\n",
    "    if next_pages is not None:\n",
    "        driver.execute_script(f\"window.scrollTo({next_pages.location['x']}, {next_pages.location['y']-200});\")\n",
    "        \n",
    "        next_pages.click()\n",
    "        show_pages(author)\n",
    "\n",
    "def get_books_ids(l, author):\n",
    "    books = driver.find_elements_by_class_name(\"gf\")\n",
    "    for book in books:\n",
    "        l.append(book.get_attribute('data-book'))\n",
    "\n",
    "book_ids = []\n",
    "\n",
    "with webdriver.Chrome(options=chrome_options) as driver:\n",
    "    for author in authors_dict:\n",
    "        driver.get(f\"https://www.bookvoed.ru/author/books?id={authors_dict[author]}\")\n",
    "        show_pages(author)\n",
    "        get_books_ids(book_ids, author)\n"
   ]
  },
  {
   "cell_type": "code",
   "execution_count": 11,
   "metadata": {},
   "outputs": [
    {
     "data": {
      "text/plain": [
       "1774"
      ]
     },
     "execution_count": 11,
     "metadata": {},
     "output_type": "execute_result"
    }
   ],
   "source": [
    "len(book_ids)"
   ]
  },
  {
   "cell_type": "code",
   "execution_count": 14,
   "metadata": {},
   "outputs": [],
   "source": [
    "def extract_book_info(book_id):\n",
    "    book_url = f\"https://www.bookvoed.ru/book?id={book_id}\"\n",
    "    book_html = requests.get(book_url).text\n",
    "    soup = BeautifulSoup(book_html, 'html.parser')\n",
    "\n",
    "    age_limits = {\n",
    "        'ov nM': '0+',\n",
    "        'pv nM': '6+',\n",
    "        'qv nM': '12+',\n",
    "        'rv nM': '16+',\n",
    "        'sv nM': '18+'\n",
    "    }\n",
    "\n",
    "    def parse_price(price):\n",
    "        if not price:\n",
    "            return ''\n",
    "        else:\n",
    "            price = price.text.strip()\n",
    "        if price.find('.') + 1 == len(price):\n",
    "            price = price.rstrip(\" pуб.\")\n",
    "        else:\n",
    "            price = price.rstrip(\" pуб.\")[price.find('.') + 2 : ]\n",
    "        return float(price.replace(\" \", \"\"))\n",
    "\n",
    "    def parce_likes(num):\n",
    "        return int(num) if num else 0\n",
    "\n",
    "    def parse_description(descr):\n",
    "        return descr.contents[0].strip() if descr else \"\"\n",
    "\n",
    "    book_info = {\n",
    "       \"ID\": book_id,\n",
    "       \"Название\": soup.find('h1').contents[0].rstrip(),\n",
    "       \"Обложка\": soup.find('img', class_ = 'tf')[\"src\"],\n",
    "       \"Возраст\": age_limits[' '.join(soup.find('div', class_ = 'bw').contents[3].contents[3][\"class\"])],\n",
    "       \"Описание\": parse_description(soup.find('div', class_ = 'lw')),\n",
    "       \"Рейтинг\": float(soup.find('div', class_ = 'af')[\"style\"][7:-1]),\n",
    "       \"Понравилось\": parce_likes(soup.find('a', class_ = 'Ke Me ').text.strip()),\n",
    "       \"В закладки\": parce_likes(soup.find('a', class_ = 'Ke Le ff').text.strip()),\n",
    "       \"Не понравилось\": parce_likes(soup.find('a', class_ = 'Ke Oe ').text.strip()),\n",
    "       \"Цена\": parse_price(soup.find('div', class_ = \"Hu Wu\")),\n",
    "       \"Серия\": \"\",\n",
    "       \"Издательство\": \"\",\n",
    "       \"Год\": \"\",\n",
    "       \"Страниц\": \"\",\n",
    "       \"Переплёт\": \"\",\n",
    "       \"ISBN\": \"\",\n",
    "       \"Размеры\": \"\",\n",
    "       \"Формат\": \"\",\n",
    "       \"Код\": \"\",\n",
    "       \"В базе\": \"\",\n",
    "       \"Автор\": \"\",\n",
    "       \"Тематика\": \"\",\n",
    "       \"Тираж\": \"\"\n",
    "    }\n",
    "\n",
    "    table = soup.find('table', class_='tw')\n",
    "    rows = table.find_all('tr')\n",
    "    data = [list(map(lambda x: x.text.rstrip(':'), row.find_all('td'))) for row in rows]\n",
    "\n",
    "    for k, v in data:\n",
    "        book_info[k] = v\n",
    "\n",
    "    book_info['Год'] = int(book_info['Год']) if book_info['Год'] else \"\"\n",
    "    book_info['Страниц'] = int(book_info['Страниц']) if book_info['Страниц'] else \"\"\n",
    "    book_info['Код'] = int(book_info['Код']) if book_info['Код'] else \"\"\n",
    "    book_info['Тираж'] = int(book_info['Тираж']) if book_info['Тираж'] else \"\"\n",
    "\n",
    "    return book_info"
   ]
  },
  {
   "cell_type": "code",
   "execution_count": 15,
   "metadata": {},
   "outputs": [
    {
     "name": "stdout",
     "output_type": "stream",
     "text": [
      "1770 objects are processed..."
     ]
    }
   ],
   "source": [
    "from multiprocessing import Pool, Lock, Value\n",
    "from time import sleep\n",
    "\n",
    "mutex = Lock()\n",
    "n_processed = Value('i', 0)\n",
    "\n",
    "\n",
    "def func_wrapper(uid):\n",
    "    res = extract_book_info(uid) \n",
    "    with mutex:\n",
    "        global n_processed\n",
    "        n_processed.value += 1\n",
    "        if n_processed.value % 10 == 0:\n",
    "            print(f\"\\r{n_processed.value} objects are processed...\", end='', flush=True)\n",
    "    return res\n",
    "\n",
    "with Pool(processes=10) as pool:\n",
    "    result = pool.map(func_wrapper, book_ids)\n",
    "\n",
    "\n",
    "# result = list(map(extract_book_info, book_ids))\n",
    "df = pd.DataFrame(result)\n",
    "df.sort_values(by=['ID'], inplace=True)\n",
    "\n",
    "with open('hw_3.csv', mode='w', encoding='utf-8') as f_csv:\n",
    "    df.to_csv(f_csv, index=False)"
   ]
  },
  {
   "cell_type": "code",
   "execution_count": null,
   "metadata": {},
   "outputs": [],
   "source": []
  }
 ],
 "metadata": {
  "kernelspec": {
   "display_name": "Python 3",
   "language": "python",
   "name": "python3"
  },
  "language_info": {
   "codemirror_mode": {
    "name": "ipython",
    "version": 3
   },
   "file_extension": ".py",
   "mimetype": "text/x-python",
   "name": "python",
   "nbconvert_exporter": "python",
   "pygments_lexer": "ipython3",
   "version": "3.7.1"
  }
 },
 "nbformat": 4,
 "nbformat_minor": 2
}
