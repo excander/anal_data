{
 "cells": [
  {
   "cell_type": "markdown",
   "metadata": {},
   "source": [
    "# Классы"
   ]
  },
  {
   "cell_type": "code",
   "execution_count": 1,
   "metadata": {},
   "outputs": [],
   "source": [
    "from datetime import datetime, timedelta"
   ]
  },
  {
   "cell_type": "code",
   "execution_count": 2,
   "metadata": {},
   "outputs": [],
   "source": [
    "class TimeInterval:\n",
    "    \"\"\"\n",
    "    Class describes time interval\n",
    "    \"\"\"\n",
    "    \n",
    "    def __init__(self, begin, end):\n",
    "        self.begin = begin\n",
    "        self.end = end\n",
    "        \n",
    "    def get_length(self):\n",
    "        return self.end - self.begin"
   ]
  },
  {
   "cell_type": "code",
   "execution_count": 3,
   "metadata": {},
   "outputs": [],
   "source": [
    "interval = TimeInterval(\n",
    "    datetime(year=2018, month=8, day=6),\n",
    "    datetime.now()\n",
    ")"
   ]
  },
  {
   "cell_type": "code",
   "execution_count": 4,
   "metadata": {},
   "outputs": [
    {
     "data": {
      "text/plain": [
       "<__main__.TimeInterval at 0x7f00df7a3a20>"
      ]
     },
     "execution_count": 4,
     "metadata": {},
     "output_type": "execute_result"
    }
   ],
   "source": [
    "interval"
   ]
  },
  {
   "cell_type": "code",
   "execution_count": 5,
   "metadata": {},
   "outputs": [
    {
     "name": "stdout",
     "output_type": "stream",
     "text": [
      "<class '__main__.TimeInterval'>\n"
     ]
    }
   ],
   "source": [
    "print(type(interval))"
   ]
  },
  {
   "cell_type": "code",
   "execution_count": 6,
   "metadata": {},
   "outputs": [
    {
     "name": "stdout",
     "output_type": "stream",
     "text": [
      "<class 'type'>\n"
     ]
    }
   ],
   "source": [
    "print(type(TimeInterval))"
   ]
  },
  {
   "cell_type": "markdown",
   "metadata": {},
   "source": [
    "[Подробнее](https://nbviewer.jupyter.org/github/akittas/presentations/blob/master/pythess/meta_alltheway/meta_alltheway.ipynb) о метапрограммировании."
   ]
  },
  {
   "cell_type": "markdown",
   "metadata": {},
   "source": [
    "## Атрибуты"
   ]
  },
  {
   "cell_type": "code",
   "execution_count": 7,
   "metadata": {},
   "outputs": [
    {
     "data": {
      "text/plain": [
       "['__class__',\n",
       " '__delattr__',\n",
       " '__dict__',\n",
       " '__dir__',\n",
       " '__doc__',\n",
       " '__eq__',\n",
       " '__format__',\n",
       " '__ge__',\n",
       " '__getattribute__',\n",
       " '__gt__',\n",
       " '__hash__',\n",
       " '__init__',\n",
       " '__init_subclass__',\n",
       " '__le__',\n",
       " '__lt__',\n",
       " '__module__',\n",
       " '__ne__',\n",
       " '__new__',\n",
       " '__reduce__',\n",
       " '__reduce_ex__',\n",
       " '__repr__',\n",
       " '__setattr__',\n",
       " '__sizeof__',\n",
       " '__str__',\n",
       " '__subclasshook__',\n",
       " '__weakref__',\n",
       " 'begin',\n",
       " 'end',\n",
       " 'get_length']"
      ]
     },
     "execution_count": 7,
     "metadata": {},
     "output_type": "execute_result"
    }
   ],
   "source": [
    "dir(interval)"
   ]
  },
  {
   "cell_type": "code",
   "execution_count": 8,
   "metadata": {},
   "outputs": [
    {
     "data": {
      "text/plain": [
       "{'begin': datetime.datetime(2018, 8, 6, 0, 0),\n",
       " 'end': datetime.datetime(2019, 3, 26, 12, 13, 22, 88485)}"
      ]
     },
     "execution_count": 8,
     "metadata": {},
     "output_type": "execute_result"
    }
   ],
   "source": [
    "interval.__dict__"
   ]
  },
  {
   "cell_type": "code",
   "execution_count": 9,
   "metadata": {},
   "outputs": [
    {
     "data": {
      "text/plain": [
       "mappingproxy({'__module__': '__main__',\n",
       "              '__doc__': '\\n    Class describes time interval\\n    ',\n",
       "              '__init__': <function __main__.TimeInterval.__init__(self, begin, end)>,\n",
       "              'get_length': <function __main__.TimeInterval.get_length(self)>,\n",
       "              '__dict__': <attribute '__dict__' of 'TimeInterval' objects>,\n",
       "              '__weakref__': <attribute '__weakref__' of 'TimeInterval' objects>})"
      ]
     },
     "execution_count": 9,
     "metadata": {},
     "output_type": "execute_result"
    }
   ],
   "source": [
    "TimeInterval.__dict__"
   ]
  },
  {
   "cell_type": "code",
   "execution_count": 10,
   "metadata": {},
   "outputs": [
    {
     "data": {
      "text/plain": [
       "datetime.datetime(2018, 8, 6, 0, 0)"
      ]
     },
     "execution_count": 10,
     "metadata": {},
     "output_type": "execute_result"
    }
   ],
   "source": [
    "interval.begin"
   ]
  },
  {
   "cell_type": "code",
   "execution_count": 11,
   "metadata": {},
   "outputs": [
    {
     "data": {
      "text/plain": [
       "datetime.datetime(2018, 8, 6, 0, 0)"
      ]
     },
     "execution_count": 11,
     "metadata": {},
     "output_type": "execute_result"
    }
   ],
   "source": [
    "getattr(interval, 'begin')"
   ]
  },
  {
   "cell_type": "code",
   "execution_count": 12,
   "metadata": {},
   "outputs": [
    {
     "ename": "AttributeError",
     "evalue": "'TimeInterval' object has no attribute 'not_found_attr'",
     "output_type": "error",
     "traceback": [
      "\u001b[0;31m---------------------------------------------------------------------------\u001b[0m",
      "\u001b[0;31mAttributeError\u001b[0m                            Traceback (most recent call last)",
      "\u001b[0;32m<ipython-input-12-7dd0e861ede7>\u001b[0m in \u001b[0;36m<module>\u001b[0;34m()\u001b[0m\n\u001b[0;32m----> 1\u001b[0;31m \u001b[0minterval\u001b[0m\u001b[0;34m.\u001b[0m\u001b[0mnot_found_attr\u001b[0m\u001b[0;34m\u001b[0m\u001b[0;34m\u001b[0m\u001b[0m\n\u001b[0m",
      "\u001b[0;31mAttributeError\u001b[0m: 'TimeInterval' object has no attribute 'not_found_attr'"
     ]
    }
   ],
   "source": [
    "interval.not_found_attr"
   ]
  },
  {
   "cell_type": "code",
   "execution_count": 13,
   "metadata": {},
   "outputs": [
    {
     "name": "stdout",
     "output_type": "stream",
     "text": [
      "1256\n"
     ]
    },
    {
     "data": {
      "text/plain": [
       "{'begin': datetime.datetime(2018, 8, 6, 0, 0),\n",
       " 'end': datetime.datetime(2019, 3, 26, 12, 13, 22, 88485),\n",
       " 'attr_to_set': 1256}"
      ]
     },
     "execution_count": 13,
     "metadata": {},
     "output_type": "execute_result"
    }
   ],
   "source": [
    "interval.attr_to_set = 1256\n",
    "print(interval.attr_to_set)\n",
    "interval.__dict__"
   ]
  },
  {
   "cell_type": "code",
   "execution_count": 14,
   "metadata": {},
   "outputs": [
    {
     "name": "stdout",
     "output_type": "stream",
     "text": [
      "{'begin': datetime.datetime(2018, 8, 6, 0, 0), 'end': datetime.datetime(2019, 3, 26, 12, 13, 22, 88485)}\n"
     ]
    },
    {
     "ename": "AttributeError",
     "evalue": "'TimeInterval' object has no attribute 'attr_to_set'",
     "output_type": "error",
     "traceback": [
      "\u001b[0;31m---------------------------------------------------------------------------\u001b[0m",
      "\u001b[0;31mAttributeError\u001b[0m                            Traceback (most recent call last)",
      "\u001b[0;32m<ipython-input-14-48b857b24042>\u001b[0m in \u001b[0;36m<module>\u001b[0;34m()\u001b[0m\n\u001b[1;32m      1\u001b[0m \u001b[0;32mdel\u001b[0m \u001b[0minterval\u001b[0m\u001b[0;34m.\u001b[0m\u001b[0mattr_to_set\u001b[0m\u001b[0;34m\u001b[0m\u001b[0;34m\u001b[0m\u001b[0m\n\u001b[1;32m      2\u001b[0m \u001b[0mprint\u001b[0m\u001b[0;34m(\u001b[0m\u001b[0minterval\u001b[0m\u001b[0;34m.\u001b[0m\u001b[0m__dict__\u001b[0m\u001b[0;34m)\u001b[0m\u001b[0;34m\u001b[0m\u001b[0;34m\u001b[0m\u001b[0m\n\u001b[0;32m----> 3\u001b[0;31m \u001b[0minterval\u001b[0m\u001b[0;34m.\u001b[0m\u001b[0mattr_to_set\u001b[0m\u001b[0;34m\u001b[0m\u001b[0;34m\u001b[0m\u001b[0m\n\u001b[0m",
      "\u001b[0;31mAttributeError\u001b[0m: 'TimeInterval' object has no attribute 'attr_to_set'"
     ]
    }
   ],
   "source": [
    "del interval.attr_to_set\n",
    "print(interval.__dict__)\n",
    "interval.attr_to_set"
   ]
  },
  {
   "cell_type": "markdown",
   "metadata": {},
   "source": [
    "## Методы"
   ]
  },
  {
   "cell_type": "code",
   "execution_count": 15,
   "metadata": {},
   "outputs": [
    {
     "data": {
      "text/plain": [
       "datetime.timedelta(232, 44002, 88485)"
      ]
     },
     "execution_count": 15,
     "metadata": {},
     "output_type": "execute_result"
    }
   ],
   "source": [
    "interval.get_length()"
   ]
  },
  {
   "cell_type": "code",
   "execution_count": 16,
   "metadata": {},
   "outputs": [
    {
     "data": {
      "text/plain": [
       "<bound method TimeInterval.get_length of <__main__.TimeInterval object at 0x7f00df7a3a20>>"
      ]
     },
     "execution_count": 16,
     "metadata": {},
     "output_type": "execute_result"
    }
   ],
   "source": [
    "interval.get_length"
   ]
  },
  {
   "cell_type": "code",
   "execution_count": 17,
   "metadata": {},
   "outputs": [
    {
     "data": {
      "text/plain": [
       "<function __main__.TimeInterval.get_length(self)>"
      ]
     },
     "execution_count": 17,
     "metadata": {},
     "output_type": "execute_result"
    }
   ],
   "source": [
    "TimeInterval.get_length"
   ]
  },
  {
   "cell_type": "code",
   "execution_count": 18,
   "metadata": {},
   "outputs": [
    {
     "data": {
      "text/plain": [
       "datetime.timedelta(232, 44002, 88485)"
      ]
     },
     "execution_count": 18,
     "metadata": {},
     "output_type": "execute_result"
    }
   ],
   "source": [
    "TimeInterval.get_length(interval)"
   ]
  },
  {
   "cell_type": "code",
   "execution_count": 19,
   "metadata": {},
   "outputs": [
    {
     "ename": "AttributeError",
     "evalue": "'TimeInterval' object has no attribute 'not_found_method'",
     "output_type": "error",
     "traceback": [
      "\u001b[0;31m---------------------------------------------------------------------------\u001b[0m",
      "\u001b[0;31mAttributeError\u001b[0m                            Traceback (most recent call last)",
      "\u001b[0;32m<ipython-input-19-2d5467e4b053>\u001b[0m in \u001b[0;36m<module>\u001b[0;34m()\u001b[0m\n\u001b[0;32m----> 1\u001b[0;31m \u001b[0minterval\u001b[0m\u001b[0;34m.\u001b[0m\u001b[0mnot_found_method\u001b[0m\u001b[0;34m(\u001b[0m\u001b[0;34m)\u001b[0m\u001b[0;34m\u001b[0m\u001b[0;34m\u001b[0m\u001b[0m\n\u001b[0m",
      "\u001b[0;31mAttributeError\u001b[0m: 'TimeInterval' object has no attribute 'not_found_method'"
     ]
    }
   ],
   "source": [
    "interval.not_found_method()"
   ]
  },
  {
   "cell_type": "markdown",
   "metadata": {},
   "source": [
    "## Инкапсуляция ?"
   ]
  },
  {
   "cell_type": "code",
   "execution_count": 20,
   "metadata": {},
   "outputs": [],
   "source": [
    "class TimeInterval:    \n",
    "    def __init__(self, begin, end):\n",
    "        self.__begin = begin\n",
    "        self._end = end\n",
    "        self.__hidden__ = \"hidden\"\n",
    "        \n",
    "    def get_length(self):\n",
    "        return self._end - self.__begin"
   ]
  },
  {
   "cell_type": "code",
   "execution_count": 21,
   "metadata": {},
   "outputs": [],
   "source": [
    "interval = TimeInterval(\n",
    "    datetime(year=2018, month=8, day=6, hour=10, minute=7),\n",
    "    datetime(year=2018, month=8, day=6, hour=12, minute=30),\n",
    ")"
   ]
  },
  {
   "cell_type": "code",
   "execution_count": 22,
   "metadata": {},
   "outputs": [
    {
     "data": {
      "text/plain": [
       "datetime.datetime(2018, 8, 6, 12, 30)"
      ]
     },
     "execution_count": 22,
     "metadata": {},
     "output_type": "execute_result"
    }
   ],
   "source": [
    "interval._end"
   ]
  },
  {
   "cell_type": "code",
   "execution_count": 23,
   "metadata": {},
   "outputs": [
    {
     "ename": "AttributeError",
     "evalue": "'TimeInterval' object has no attribute '__begin'",
     "output_type": "error",
     "traceback": [
      "\u001b[0;31m---------------------------------------------------------------------------\u001b[0m",
      "\u001b[0;31mAttributeError\u001b[0m                            Traceback (most recent call last)",
      "\u001b[0;32m<ipython-input-23-db79a5e55077>\u001b[0m in \u001b[0;36m<module>\u001b[0;34m()\u001b[0m\n\u001b[0;32m----> 1\u001b[0;31m \u001b[0minterval\u001b[0m\u001b[0;34m.\u001b[0m\u001b[0m__begin\u001b[0m\u001b[0;34m\u001b[0m\u001b[0;34m\u001b[0m\u001b[0m\n\u001b[0m",
      "\u001b[0;31mAttributeError\u001b[0m: 'TimeInterval' object has no attribute '__begin'"
     ]
    }
   ],
   "source": [
    "interval.__begin"
   ]
  },
  {
   "cell_type": "code",
   "execution_count": 24,
   "metadata": {},
   "outputs": [
    {
     "data": {
      "text/plain": [
       "{'_TimeInterval__begin': datetime.datetime(2018, 8, 6, 10, 7),\n",
       " '_end': datetime.datetime(2018, 8, 6, 12, 30),\n",
       " '__hidden__': 'hidden'}"
      ]
     },
     "execution_count": 24,
     "metadata": {},
     "output_type": "execute_result"
    }
   ],
   "source": [
    "interval.__dict__"
   ]
  },
  {
   "cell_type": "code",
   "execution_count": 25,
   "metadata": {},
   "outputs": [
    {
     "data": {
      "text/plain": [
       "datetime.datetime(2018, 8, 6, 10, 7)"
      ]
     },
     "execution_count": 25,
     "metadata": {},
     "output_type": "execute_result"
    }
   ],
   "source": [
    "interval._TimeInterval__begin"
   ]
  },
  {
   "cell_type": "code",
   "execution_count": 26,
   "metadata": {},
   "outputs": [
    {
     "data": {
      "text/plain": [
       "8580.0"
      ]
     },
     "execution_count": 26,
     "metadata": {},
     "output_type": "execute_result"
    }
   ],
   "source": [
    "interval.get_length().total_seconds()"
   ]
  },
  {
   "cell_type": "code",
   "execution_count": 27,
   "metadata": {},
   "outputs": [
    {
     "data": {
      "text/plain": [
       "'hidden'"
      ]
     },
     "execution_count": 27,
     "metadata": {},
     "output_type": "execute_result"
    }
   ],
   "source": [
    "interval.__hidden__"
   ]
  },
  {
   "cell_type": "markdown",
   "metadata": {},
   "source": [
    "## Атрибуты классов"
   ]
  },
  {
   "cell_type": "code",
   "execution_count": 28,
   "metadata": {},
   "outputs": [],
   "source": [
    "from time import sleep"
   ]
  },
  {
   "cell_type": "code",
   "execution_count": 29,
   "metadata": {},
   "outputs": [],
   "source": [
    "class TimeInterval:\n",
    "    # а-ля static DEFAULT_BEGIN\n",
    "    DEFAULT_BEGIN = datetime(1970, 1, 1)\n",
    "    DEFAULT_END   = datetime.now()\n",
    "    \n",
    "    def __init__(self, begin=None, end=None):\n",
    "        if begin is None:\n",
    "            begin = self.DEFAULT_BEGIN\n",
    "        if end is None:\n",
    "            end = self.DEFAULT_END\n",
    "        \n",
    "        self._begin = begin\n",
    "        self._end = end\n",
    "        \n",
    "    def get_length(self):\n",
    "        return self._end - self._begin\n",
    "    \n",
    "    def set_default_end(self, value):\n",
    "        self.DEFAULT_END = value"
   ]
  },
  {
   "cell_type": "code",
   "execution_count": 30,
   "metadata": {},
   "outputs": [
    {
     "data": {
      "text/plain": [
       "mappingproxy({'__module__': '__main__',\n",
       "              'DEFAULT_BEGIN': datetime.datetime(1970, 1, 1, 0, 0),\n",
       "              'DEFAULT_END': datetime.datetime(2019, 3, 26, 12, 13, 27, 501231),\n",
       "              '__init__': <function __main__.TimeInterval.__init__(self, begin=None, end=None)>,\n",
       "              'get_length': <function __main__.TimeInterval.get_length(self)>,\n",
       "              'set_default_end': <function __main__.TimeInterval.set_default_end(self, value)>,\n",
       "              '__dict__': <attribute '__dict__' of 'TimeInterval' objects>,\n",
       "              '__weakref__': <attribute '__weakref__' of 'TimeInterval' objects>,\n",
       "              '__doc__': None})"
      ]
     },
     "execution_count": 30,
     "metadata": {},
     "output_type": "execute_result"
    }
   ],
   "source": [
    "TimeInterval.__dict__"
   ]
  },
  {
   "cell_type": "code",
   "execution_count": 31,
   "metadata": {},
   "outputs": [
    {
     "name": "stdout",
     "output_type": "stream",
     "text": [
      "Before:  2019-03-26 12:13:27.501231\n",
      "Current: 2019-03-26 12:13:31.057877\n",
      "After:   2019-03-26 12:13:27.501231\n"
     ]
    }
   ],
   "source": [
    "interval = TimeInterval()\n",
    "print(\"Before: \", interval.DEFAULT_END)\n",
    "\n",
    "sleep(3)\n",
    "\n",
    "print(\"Current:\", datetime.now())\n",
    "\n",
    "interval = TimeInterval()\n",
    "print(\"After:  \", interval.DEFAULT_END)"
   ]
  },
  {
   "cell_type": "code",
   "execution_count": 32,
   "metadata": {},
   "outputs": [
    {
     "name": "stdout",
     "output_type": "stream",
     "text": [
      "2019-03-26 12:13:27.501231\n",
      "2019-03-26 12:13:31.069272\n"
     ]
    }
   ],
   "source": [
    "interval.set_default_end(datetime.now())\n",
    "print(TimeInterval.DEFAULT_END)\n",
    "print(interval.DEFAULT_END)"
   ]
  },
  {
   "cell_type": "code",
   "execution_count": 33,
   "metadata": {},
   "outputs": [
    {
     "data": {
      "text/plain": [
       "{'_begin': datetime.datetime(1970, 1, 1, 0, 0),\n",
       " '_end': datetime.datetime(2019, 3, 26, 12, 13, 27, 501231),\n",
       " 'DEFAULT_END': datetime.datetime(2019, 3, 26, 12, 13, 31, 69272)}"
      ]
     },
     "execution_count": 33,
     "metadata": {},
     "output_type": "execute_result"
    }
   ],
   "source": [
    "interval.__dict__"
   ]
  },
  {
   "cell_type": "code",
   "execution_count": 34,
   "metadata": {},
   "outputs": [
    {
     "data": {
      "text/plain": [
       "{'_begin': datetime.datetime(1970, 1, 1, 0, 0),\n",
       " '_end': datetime.datetime(2019, 3, 26, 12, 13, 27, 501231)}"
      ]
     },
     "execution_count": 34,
     "metadata": {},
     "output_type": "execute_result"
    }
   ],
   "source": [
    "interval = TimeInterval()\n",
    "interval.__dict__"
   ]
  },
  {
   "cell_type": "code",
   "execution_count": 35,
   "metadata": {},
   "outputs": [],
   "source": [
    "class TimeInterval:\n",
    "    # а-ля static DEFAULT_BEGIN\n",
    "    DEFAULT_BEGIN = datetime(1970, 1, 1)\n",
    "    DEFAULT_END   = datetime.now()\n",
    "    \n",
    "    def __init__(self, begin=None, end=None):\n",
    "        if begin is None:\n",
    "            begin = self.DEFAULT_BEGIN\n",
    "        if end is None:\n",
    "            end = self.DEFAULT_END\n",
    "        \n",
    "        self._begin = begin\n",
    "        self._end = end\n",
    "        \n",
    "    def get_length(self):\n",
    "        return self._end - self._begin\n",
    "    \n",
    "    \"\"\"\n",
    "    def set_default_end(self, value):\n",
    "        TimeInterval.DEFAULT_END = value\n",
    "    \"\"\"\n",
    "\n",
    "    # \"\"\"\n",
    "    @classmethod\n",
    "    def set_default_end(cls, value):\n",
    "        cls.DEFAULT_END = value\n",
    "    # \"\"\"\n",
    "        \n",
    "interval = TimeInterval()"
   ]
  },
  {
   "cell_type": "code",
   "execution_count": 36,
   "metadata": {},
   "outputs": [
    {
     "data": {
      "text/plain": [
       "<function __main__.TimeInterval.get_length(self)>"
      ]
     },
     "execution_count": 36,
     "metadata": {},
     "output_type": "execute_result"
    }
   ],
   "source": [
    "TimeInterval.get_length"
   ]
  },
  {
   "cell_type": "code",
   "execution_count": 37,
   "metadata": {},
   "outputs": [
    {
     "data": {
      "text/plain": [
       "<bound method TimeInterval.get_length of <__main__.TimeInterval object at 0x7f00def35c50>>"
      ]
     },
     "execution_count": 37,
     "metadata": {},
     "output_type": "execute_result"
    }
   ],
   "source": [
    "interval.get_length"
   ]
  },
  {
   "cell_type": "code",
   "execution_count": 38,
   "metadata": {},
   "outputs": [
    {
     "data": {
      "text/plain": [
       "<bound method TimeInterval.set_default_end of <class '__main__.TimeInterval'>>"
      ]
     },
     "execution_count": 38,
     "metadata": {},
     "output_type": "execute_result"
    }
   ],
   "source": [
    "TimeInterval.set_default_end"
   ]
  },
  {
   "cell_type": "code",
   "execution_count": 39,
   "metadata": {},
   "outputs": [
    {
     "name": "stdout",
     "output_type": "stream",
     "text": [
      "2019-03-26 12:13:31.790225\n",
      "2019-03-26 12:13:31.790225\n"
     ]
    }
   ],
   "source": [
    "TimeInterval.set_default_end(datetime.now())\n",
    "print(TimeInterval.DEFAULT_END)\n",
    "print(interval.DEFAULT_END)"
   ]
  },
  {
   "cell_type": "code",
   "execution_count": 40,
   "metadata": {},
   "outputs": [
    {
     "name": "stdout",
     "output_type": "stream",
     "text": [
      "2019-03-26 12:13:31.878908\n",
      "2019-03-26 12:13:31.878908\n"
     ]
    }
   ],
   "source": [
    "interval.set_default_end(datetime.now())\n",
    "print(TimeInterval.DEFAULT_END)\n",
    "print(interval.DEFAULT_END)"
   ]
  },
  {
   "cell_type": "code",
   "execution_count": 41,
   "metadata": {},
   "outputs": [],
   "source": [
    "class TimeInterval:\n",
    "    # а-ля static DEFAULT_BEGIN\n",
    "    DEFAULT_BEGIN = datetime(1970, 1, 1)\n",
    "    \n",
    "    def __init__(self, begin=None, end=None):\n",
    "        if begin is None:\n",
    "            begin = self.DEFAULT_BEGIN\n",
    "        if end is None:\n",
    "            end = self.get_default_end()\n",
    "        \n",
    "        self._begin = begin\n",
    "        self._end = end\n",
    "        \n",
    "    def get_length(self):\n",
    "        return self._end - self._begin\n",
    "    \n",
    "    @staticmethod\n",
    "    def get_default_begin():\n",
    "        # обязательно явно указывать имя класса\n",
    "        return TimeInterval.DEFAULT_BEGIN\n",
    "    \n",
    "    # лучше\n",
    "    \"\"\"\n",
    "    @classmethod\n",
    "    def get_default_begin(cls):\n",
    "        return cls.DEFAULT_BEGIN\n",
    "    \"\"\"\n",
    "    \n",
    "    @staticmethod\n",
    "    def get_default_end():\n",
    "        return datetime.now()"
   ]
  },
  {
   "cell_type": "code",
   "execution_count": 42,
   "metadata": {},
   "outputs": [
    {
     "name": "stdout",
     "output_type": "stream",
     "text": [
      "Before:  2019-03-26 12:13:32.078521\n",
      "Current: 2019-03-26 12:13:35.079152\n",
      "After:   2019-03-26 12:13:35.079488\n"
     ]
    }
   ],
   "source": [
    "interval = TimeInterval()\n",
    "print(\"Before: \", interval._end)\n",
    "\n",
    "sleep(3)\n",
    "\n",
    "print(\"Current:\", datetime.now())\n",
    "\n",
    "interval = TimeInterval()\n",
    "print(\"After:  \", interval._end)"
   ]
  },
  {
   "cell_type": "code",
   "execution_count": 43,
   "metadata": {},
   "outputs": [
    {
     "name": "stdout",
     "output_type": "stream",
     "text": [
      "2019-03-26 12:13:35.091238\n",
      "2019-03-26 12:13:35.091567\n"
     ]
    }
   ],
   "source": [
    "print(interval.get_default_end())\n",
    "print(TimeInterval.get_default_end())"
   ]
  },
  {
   "cell_type": "code",
   "execution_count": 44,
   "metadata": {},
   "outputs": [
    {
     "data": {
      "text/plain": [
       "<function __main__.TimeInterval.get_default_end()>"
      ]
     },
     "execution_count": 44,
     "metadata": {},
     "output_type": "execute_result"
    }
   ],
   "source": [
    "TimeInterval.get_default_end"
   ]
  },
  {
   "cell_type": "code",
   "execution_count": 45,
   "metadata": {},
   "outputs": [
    {
     "data": {
      "text/plain": [
       "<function __main__.TimeInterval.get_default_end()>"
      ]
     },
     "execution_count": 45,
     "metadata": {},
     "output_type": "execute_result"
    }
   ],
   "source": [
    "interval.get_default_end"
   ]
  },
  {
   "cell_type": "code",
   "execution_count": 46,
   "metadata": {},
   "outputs": [
    {
     "data": {
      "text/plain": [
       "datetime.datetime(1970, 1, 1, 0, 0)"
      ]
     },
     "execution_count": 46,
     "metadata": {},
     "output_type": "execute_result"
    }
   ],
   "source": [
    "TimeInterval.get_default_begin()"
   ]
  },
  {
   "cell_type": "markdown",
   "metadata": {},
   "source": [
    "## Вычисляемые свойства класса (property)"
   ]
  },
  {
   "cell_type": "code",
   "execution_count": 47,
   "metadata": {},
   "outputs": [],
   "source": [
    "class TimeInterval:\n",
    "    DEFAULT_BEGIN = datetime(1991, 1, 1)\n",
    "    \n",
    "    def __init__(self, begin=None, end=None):\n",
    "        if begin is None:\n",
    "            begin = self.DEFAULT_BEGIN\n",
    "        if end is None:\n",
    "            end = self.get_default_end()\n",
    "        \n",
    "        # отсутствует подчеркивание [!]\n",
    "        self.begin = begin\n",
    "        self.end = end\n",
    "        \n",
    "    def get_length(self):\n",
    "        return self.end - self.begin\n",
    "    \n",
    "    @staticmethod\n",
    "    def get_default_end():\n",
    "        return datetime.now()"
   ]
  },
  {
   "cell_type": "code",
   "execution_count": 48,
   "metadata": {},
   "outputs": [
    {
     "data": {
      "text/plain": [
       "datetime.datetime(1969, 1, 1, 0, 0)"
      ]
     },
     "execution_count": 48,
     "metadata": {},
     "output_type": "execute_result"
    }
   ],
   "source": [
    "# хотим, чтобы начальная дата была позже 1991-01-01\n",
    "\n",
    "interval = TimeInterval()\n",
    "interval.begin = datetime(1969, 1, 1)\n",
    "interval.begin"
   ]
  },
  {
   "cell_type": "code",
   "execution_count": 49,
   "metadata": {},
   "outputs": [],
   "source": [
    "class TimeInterval:\n",
    "    DEFAULT_BEGIN = datetime(1991, 1, 1)\n",
    "    \n",
    "    def __init__(self, begin=None, end=None):\n",
    "        if begin is None or begin < self.DEFAULT_BEGIN:\n",
    "            begin = self.DEFAULT_BEGIN\n",
    "        if end is None:\n",
    "            end = self.get_default_end()\n",
    "        \n",
    "        # есть подчеркивание [!]\n",
    "        self._begin = begin\n",
    "        self.end = end\n",
    "    \n",
    "    begin = property()\n",
    "    \n",
    "    @begin.setter\n",
    "    def begin(self, value):\n",
    "        if value is None or value < self.DEFAULT_BEGIN:\n",
    "            value = self.DEFAULT_BEGIN\n",
    "        self._begin = value\n",
    "\n",
    "    @begin.getter\n",
    "    def begin(self):\n",
    "        return self._begin\n",
    "\n",
    "    @begin.deleter\n",
    "    def begin(self):\n",
    "        del self._begin\n",
    "        \n",
    "    def get_length(self):\n",
    "        return self.end - self._begin\n",
    "    \n",
    "    @staticmethod\n",
    "    def get_default_end():\n",
    "        return datetime.now()"
   ]
  },
  {
   "cell_type": "code",
   "execution_count": 50,
   "metadata": {},
   "outputs": [
    {
     "data": {
      "text/plain": [
       "datetime.datetime(1991, 1, 1, 0, 0)"
      ]
     },
     "execution_count": 50,
     "metadata": {},
     "output_type": "execute_result"
    }
   ],
   "source": [
    "interval = TimeInterval()\n",
    "interval.begin = datetime(1969, 1, 1)\n",
    "interval.begin"
   ]
  },
  {
   "cell_type": "code",
   "execution_count": 51,
   "metadata": {},
   "outputs": [
    {
     "ename": "AttributeError",
     "evalue": "'TimeInterval' object has no attribute '_begin'",
     "output_type": "error",
     "traceback": [
      "\u001b[0;31m---------------------------------------------------------------------------\u001b[0m",
      "\u001b[0;31mAttributeError\u001b[0m                            Traceback (most recent call last)",
      "\u001b[0;32m<ipython-input-51-f3876cf4a06f>\u001b[0m in \u001b[0;36m<module>\u001b[0;34m()\u001b[0m\n\u001b[1;32m      1\u001b[0m \u001b[0;32mdel\u001b[0m \u001b[0minterval\u001b[0m\u001b[0;34m.\u001b[0m\u001b[0mbegin\u001b[0m\u001b[0;34m\u001b[0m\u001b[0;34m\u001b[0m\u001b[0m\n\u001b[0;32m----> 2\u001b[0;31m \u001b[0minterval\u001b[0m\u001b[0;34m.\u001b[0m\u001b[0mbegin\u001b[0m\u001b[0;34m\u001b[0m\u001b[0;34m\u001b[0m\u001b[0m\n\u001b[0m",
      "\u001b[0;32m<ipython-input-49-05a7f0e79088>\u001b[0m in \u001b[0;36mbegin\u001b[0;34m(self)\u001b[0m\n\u001b[1;32m     22\u001b[0m     \u001b[0;34m@\u001b[0m\u001b[0mbegin\u001b[0m\u001b[0;34m.\u001b[0m\u001b[0mgetter\u001b[0m\u001b[0;34m\u001b[0m\u001b[0;34m\u001b[0m\u001b[0m\n\u001b[1;32m     23\u001b[0m     \u001b[0;32mdef\u001b[0m \u001b[0mbegin\u001b[0m\u001b[0;34m(\u001b[0m\u001b[0mself\u001b[0m\u001b[0;34m)\u001b[0m\u001b[0;34m:\u001b[0m\u001b[0;34m\u001b[0m\u001b[0;34m\u001b[0m\u001b[0m\n\u001b[0;32m---> 24\u001b[0;31m         \u001b[0;32mreturn\u001b[0m \u001b[0mself\u001b[0m\u001b[0;34m.\u001b[0m\u001b[0m_begin\u001b[0m\u001b[0;34m\u001b[0m\u001b[0;34m\u001b[0m\u001b[0m\n\u001b[0m\u001b[1;32m     25\u001b[0m \u001b[0;34m\u001b[0m\u001b[0m\n\u001b[1;32m     26\u001b[0m     \u001b[0;34m@\u001b[0m\u001b[0mbegin\u001b[0m\u001b[0;34m.\u001b[0m\u001b[0mdeleter\u001b[0m\u001b[0;34m\u001b[0m\u001b[0;34m\u001b[0m\u001b[0m\n",
      "\u001b[0;31mAttributeError\u001b[0m: 'TimeInterval' object has no attribute '_begin'"
     ]
    }
   ],
   "source": [
    "del interval.begin\n",
    "interval.begin"
   ]
  },
  {
   "cell_type": "markdown",
   "metadata": {},
   "source": [
    "## Магические методы"
   ]
  },
  {
   "cell_type": "code",
   "execution_count": 52,
   "metadata": {},
   "outputs": [
    {
     "data": {
      "text/plain": [
       "['__add__',\n",
       " '__class__',\n",
       " '__contains__',\n",
       " '__delattr__',\n",
       " '__delitem__',\n",
       " '__dir__',\n",
       " '__doc__',\n",
       " '__eq__',\n",
       " '__format__',\n",
       " '__ge__',\n",
       " '__getattribute__',\n",
       " '__getitem__',\n",
       " '__gt__',\n",
       " '__hash__',\n",
       " '__iadd__',\n",
       " '__imul__',\n",
       " '__init__',\n",
       " '__init_subclass__',\n",
       " '__iter__',\n",
       " '__le__',\n",
       " '__len__',\n",
       " '__lt__',\n",
       " '__mul__',\n",
       " '__ne__',\n",
       " '__new__',\n",
       " '__reduce__',\n",
       " '__reduce_ex__',\n",
       " '__repr__',\n",
       " '__reversed__',\n",
       " '__rmul__',\n",
       " '__setattr__',\n",
       " '__setitem__',\n",
       " '__sizeof__',\n",
       " '__str__',\n",
       " '__subclasshook__']"
      ]
     },
     "execution_count": 52,
     "metadata": {},
     "output_type": "execute_result"
    }
   ],
   "source": [
    "list(filter(lambda attr: attr.startswith(\"__\") and attr.endswith(\"__\"), dir(list)))"
   ]
  },
  {
   "cell_type": "markdown",
   "metadata": {},
   "source": [
    "### Пример: элемент кольца вычетов по модулю 4"
   ]
  },
  {
   "cell_type": "code",
   "execution_count": 53,
   "metadata": {},
   "outputs": [],
   "source": [
    "class RingInt:\n",
    "    modulo = 4\n",
    "    \n",
    "    def __init__(self, value):\n",
    "        self.value = value % self.modulo\n",
    "        \n",
    "    def __add__(self, obj):\n",
    "        return RingInt(self.value + obj.value)\n",
    "    \n",
    "    def __mul__(self, obj):\n",
    "        return RingInt(self.value * obj.value)"
   ]
  },
  {
   "cell_type": "code",
   "execution_count": 54,
   "metadata": {},
   "outputs": [
    {
     "data": {
      "text/plain": [
       "1"
      ]
     },
     "execution_count": 54,
     "metadata": {},
     "output_type": "execute_result"
    }
   ],
   "source": [
    "res = RingInt(2) + RingInt(3)\n",
    "res.value"
   ]
  },
  {
   "cell_type": "code",
   "execution_count": 55,
   "metadata": {},
   "outputs": [
    {
     "data": {
      "text/plain": [
       "2"
      ]
     },
     "execution_count": 55,
     "metadata": {},
     "output_type": "execute_result"
    }
   ],
   "source": [
    "res = RingInt(3) + RingInt(3)\n",
    "res.value"
   ]
  },
  {
   "cell_type": "code",
   "execution_count": 56,
   "metadata": {},
   "outputs": [
    {
     "data": {
      "text/plain": [
       "2"
      ]
     },
     "execution_count": 56,
     "metadata": {},
     "output_type": "execute_result"
    }
   ],
   "source": [
    "res = RingInt(2) * RingInt(3)\n",
    "res.value"
   ]
  },
  {
   "cell_type": "code",
   "execution_count": 57,
   "metadata": {},
   "outputs": [
    {
     "data": {
      "text/plain": [
       "1"
      ]
     },
     "execution_count": 57,
     "metadata": {},
     "output_type": "execute_result"
    }
   ],
   "source": [
    "res = RingInt(3) * RingInt(3)\n",
    "res.value"
   ]
  },
  {
   "cell_type": "markdown",
   "metadata": {},
   "source": [
    "### Пример: планеты"
   ]
  },
  {
   "cell_type": "code",
   "execution_count": 58,
   "metadata": {},
   "outputs": [
    {
     "name": "stdout",
     "output_type": "stream",
     "text": [
      "[PLANET]\n",
      "\tname:   Earth\n",
      "\tmass:   5.9726\n",
      "\tradius: 6371\n",
      "[PLANET]\n",
      "\tname:   Earth\n",
      "\tmass:   5.9726\n",
      "\tradius: 6371\n"
     ]
    },
    {
     "data": {
      "text/plain": [
       "Planet(\"Earth\", 5.9726, 6371)"
      ]
     },
     "execution_count": 58,
     "metadata": {},
     "output_type": "execute_result"
    }
   ],
   "source": [
    "class Planet:\n",
    "    def __init__(self, name, mass, radius):\n",
    "        self.name = name\n",
    "        self.mass = mass\n",
    "        self.radius = radius\n",
    "        \n",
    "    def __str__(self):\n",
    "        return f\"[PLANET]\\n\\tname:   {self.name}\\n\\tmass:   {self.mass}\\n\\tradius: {self.radius}\"\n",
    "    \n",
    "    def __repr__(self):\n",
    "        return f'Planet(\"{self.name}\", {self.mass}, {self.radius})'\n",
    "    \n",
    "earth = Planet(\"Earth\", mass=5.9726, radius=6371)\n",
    "\n",
    "print(earth)\n",
    "print(str(earth))\n",
    "earth"
   ]
  },
  {
   "cell_type": "code",
   "execution_count": 59,
   "metadata": {},
   "outputs": [
    {
     "data": {
      "text/plain": [
       "Planet(\"Earth\", 5.9726, 6371)"
      ]
     },
     "execution_count": 59,
     "metadata": {},
     "output_type": "execute_result"
    }
   ],
   "source": [
    "earth_ = eval(repr(earth))\n",
    "earth_"
   ]
  },
  {
   "cell_type": "markdown",
   "metadata": {},
   "source": [
    "### Пример: singleton"
   ]
  },
  {
   "cell_type": "code",
   "execution_count": 60,
   "metadata": {},
   "outputs": [],
   "source": [
    "class Singleton:\n",
    "    instance = None\n",
    "    \n",
    "    def __new__(cls):\n",
    "        if cls.instance is None:\n",
    "            cls.instance = super().__new__(cls)\n",
    "        return cls.instance"
   ]
  },
  {
   "cell_type": "code",
   "execution_count": 61,
   "metadata": {},
   "outputs": [
    {
     "name": "stdout",
     "output_type": "stream",
     "text": [
      "<__main__.Singleton object at 0x7f00def3bf60>\n",
      "<__main__.Singleton object at 0x7f00def3bf60>\n"
     ]
    },
    {
     "data": {
      "text/plain": [
       "True"
      ]
     },
     "execution_count": 61,
     "metadata": {},
     "output_type": "execute_result"
    }
   ],
   "source": [
    "a, b = Singleton(), Singleton()\n",
    "\n",
    "print(a)\n",
    "print(b)\n",
    "\n",
    "a is b"
   ]
  },
  {
   "cell_type": "markdown",
   "metadata": {},
   "source": [
    "[Подробнее](https://nbviewer.jupyter.org/github/akittas/presentations/blob/master/pythess/meta_alltheway/meta_alltheway.ipynb) о метапрограммировании."
   ]
  },
  {
   "cell_type": "markdown",
   "metadata": {},
   "source": [
    "### Пример: декоратор"
   ]
  },
  {
   "cell_type": "code",
   "execution_count": 63,
   "metadata": {},
   "outputs": [
    {
     "data": {
      "text/plain": [
       "11"
      ]
     },
     "execution_count": 63,
     "metadata": {},
     "output_type": "execute_result"
    }
   ],
   "source": [
    "def logger(filename):\n",
    "    def decorator(func):\n",
    "        def wrapper(*args, **argv):\n",
    "            result = func(*args, **argv)\n",
    "            with open(filename, 'a') as f_output:\n",
    "                f_output.write(\"func = \\\"{}\\\"; result = {}\\n\".format(func.__name__, result))\n",
    "            return result\n",
    "        return wrapper\n",
    "    return decorator\n",
    "\n",
    "@logger(\"/tmp/decorator.logs\")\n",
    "def summator(a):\n",
    "    return sum(a)\n",
    "\n",
    "summator([1, 2, 3, 5])"
   ]
  },
  {
   "cell_type": "code",
   "execution_count": 64,
   "metadata": {},
   "outputs": [
    {
     "name": "stdout",
     "output_type": "stream",
     "text": [
      "func = \"summator\"; result = 11\r\n"
     ]
    }
   ],
   "source": [
    "!cat /tmp/decorator.logs"
   ]
  },
  {
   "cell_type": "code",
   "execution_count": 65,
   "metadata": {},
   "outputs": [
    {
     "data": {
      "text/plain": [
       "[True, False, False, False, False, False]"
      ]
     },
     "execution_count": 65,
     "metadata": {},
     "output_type": "execute_result"
    }
   ],
   "source": [
    "list(map(lambda cls: \"__call__\" in dir(cls), [logger, list, set, dict, int, Singleton]))"
   ]
  },
  {
   "cell_type": "code",
   "execution_count": 66,
   "metadata": {},
   "outputs": [
    {
     "data": {
      "text/plain": [
       "17"
      ]
     },
     "execution_count": 66,
     "metadata": {},
     "output_type": "execute_result"
    }
   ],
   "source": [
    "class Logger:\n",
    "    def __init__(self, filename):\n",
    "        self._filename = filename\n",
    "        \n",
    "    def __call__(self, func):\n",
    "        def wrapper(*args, **argv):\n",
    "            result = func(*args, **argv)\n",
    "            with open(self._filename, 'a') as f_output:\n",
    "                f_output.write(\"func = \\\"{}\\\"; result = {}\\n\".format(func.__name__, result))\n",
    "            return result\n",
    "        return wrapper\n",
    "    \n",
    "logger = Logger(\"/tmp/decorator.logs\")\n",
    "\n",
    "@logger\n",
    "def summator(a):\n",
    "    return sum(a)\n",
    "\n",
    "summator([1, 2, 3, 5, 6])"
   ]
  },
  {
   "cell_type": "code",
   "execution_count": 67,
   "metadata": {},
   "outputs": [
    {
     "name": "stdout",
     "output_type": "stream",
     "text": [
      "func = \"summator\"; result = 11\r\n",
      "func = \"summator\"; result = 17\r\n"
     ]
    }
   ],
   "source": [
    "!cat /tmp/decorator.logs"
   ]
  },
  {
   "cell_type": "markdown",
   "metadata": {},
   "source": [
    "### Пример: итератор"
   ]
  },
  {
   "cell_type": "code",
   "execution_count": 68,
   "metadata": {},
   "outputs": [
    {
     "name": "stdout",
     "output_type": "stream",
     "text": [
      "1\n",
      "3\n",
      "5\n"
     ]
    }
   ],
   "source": [
    "def my_range(start, end, step=1):\n",
    "    curr = start\n",
    "    while curr < end:\n",
    "        yield curr\n",
    "        curr += step\n",
    "        \n",
    "for i in my_range(1, 7, 2):\n",
    "    print(i)"
   ]
  },
  {
   "cell_type": "code",
   "execution_count": 69,
   "metadata": {},
   "outputs": [
    {
     "data": {
      "text/plain": [
       "[True, True]"
      ]
     },
     "execution_count": 69,
     "metadata": {},
     "output_type": "execute_result"
    }
   ],
   "source": [
    "list(map(lambda a: a in dir(my_range(1, 7, 2)), ['__iter__', '__next__']))"
   ]
  },
  {
   "cell_type": "code",
   "execution_count": 70,
   "metadata": {},
   "outputs": [],
   "source": [
    "class Range():\n",
    "    def __init__(self, start, end, step=1):\n",
    "        self._current = start\n",
    "        self._end = end\n",
    "        self._step = step\n",
    "        \n",
    "    def __iter__(self):\n",
    "        return self\n",
    "    \n",
    "    def __next__(self):\n",
    "        if self._current >= self._end:\n",
    "            raise StopIteration()\n",
    "        \n",
    "        ret = self._current\n",
    "        self._current += self._step\n",
    "        return ret"
   ]
  },
  {
   "cell_type": "code",
   "execution_count": 71,
   "metadata": {},
   "outputs": [
    {
     "name": "stdout",
     "output_type": "stream",
     "text": [
      "1\n",
      "3\n",
      "5\n"
     ]
    }
   ],
   "source": [
    "for i in Range(1, 7, 2):\n",
    "    print(i)"
   ]
  },
  {
   "cell_type": "code",
   "execution_count": 72,
   "metadata": {},
   "outputs": [
    {
     "name": "stdout",
     "output_type": "stream",
     "text": [
      "1\n",
      "3\n",
      "5\n"
     ]
    },
    {
     "ename": "StopIteration",
     "evalue": "",
     "output_type": "error",
     "traceback": [
      "\u001b[0;31m---------------------------------------------------------------------------\u001b[0m",
      "\u001b[0;31mStopIteration\u001b[0m                             Traceback (most recent call last)",
      "\u001b[0;32m<ipython-input-72-caf91738afca>\u001b[0m in \u001b[0;36m<module>\u001b[0;34m()\u001b[0m\n\u001b[1;32m      4\u001b[0m \u001b[0mprint\u001b[0m\u001b[0;34m(\u001b[0m\u001b[0mnext\u001b[0m\u001b[0;34m(\u001b[0m\u001b[0mr\u001b[0m\u001b[0;34m)\u001b[0m\u001b[0;34m)\u001b[0m\u001b[0;34m\u001b[0m\u001b[0;34m\u001b[0m\u001b[0m\n\u001b[1;32m      5\u001b[0m \u001b[0mprint\u001b[0m\u001b[0;34m(\u001b[0m\u001b[0mnext\u001b[0m\u001b[0;34m(\u001b[0m\u001b[0mr\u001b[0m\u001b[0;34m)\u001b[0m\u001b[0;34m)\u001b[0m\u001b[0;34m\u001b[0m\u001b[0;34m\u001b[0m\u001b[0m\n\u001b[0;32m----> 6\u001b[0;31m \u001b[0mprint\u001b[0m\u001b[0;34m(\u001b[0m\u001b[0mnext\u001b[0m\u001b[0;34m(\u001b[0m\u001b[0mr\u001b[0m\u001b[0;34m)\u001b[0m\u001b[0;34m)\u001b[0m\u001b[0;34m\u001b[0m\u001b[0;34m\u001b[0m\u001b[0m\n\u001b[0m",
      "\u001b[0;32m<ipython-input-70-55b5c2e8ce3f>\u001b[0m in \u001b[0;36m__next__\u001b[0;34m(self)\u001b[0m\n\u001b[1;32m     10\u001b[0m     \u001b[0;32mdef\u001b[0m \u001b[0m__next__\u001b[0m\u001b[0;34m(\u001b[0m\u001b[0mself\u001b[0m\u001b[0;34m)\u001b[0m\u001b[0;34m:\u001b[0m\u001b[0;34m\u001b[0m\u001b[0;34m\u001b[0m\u001b[0m\n\u001b[1;32m     11\u001b[0m         \u001b[0;32mif\u001b[0m \u001b[0mself\u001b[0m\u001b[0;34m.\u001b[0m\u001b[0m_current\u001b[0m \u001b[0;34m>=\u001b[0m \u001b[0mself\u001b[0m\u001b[0;34m.\u001b[0m\u001b[0m_end\u001b[0m\u001b[0;34m:\u001b[0m\u001b[0;34m\u001b[0m\u001b[0;34m\u001b[0m\u001b[0m\n\u001b[0;32m---> 12\u001b[0;31m             \u001b[0;32mraise\u001b[0m \u001b[0mStopIteration\u001b[0m\u001b[0;34m(\u001b[0m\u001b[0;34m)\u001b[0m\u001b[0;34m\u001b[0m\u001b[0;34m\u001b[0m\u001b[0m\n\u001b[0m\u001b[1;32m     13\u001b[0m \u001b[0;34m\u001b[0m\u001b[0m\n\u001b[1;32m     14\u001b[0m         \u001b[0mret\u001b[0m \u001b[0;34m=\u001b[0m \u001b[0mself\u001b[0m\u001b[0;34m.\u001b[0m\u001b[0m_current\u001b[0m\u001b[0;34m\u001b[0m\u001b[0;34m\u001b[0m\u001b[0m\n",
      "\u001b[0;31mStopIteration\u001b[0m: "
     ]
    }
   ],
   "source": [
    "r = Range(1, 7, 2)\n",
    "\n",
    "print(next(r))\n",
    "print(next(r))\n",
    "print(next(r))\n",
    "print(next(r))"
   ]
  },
  {
   "cell_type": "markdown",
   "metadata": {},
   "source": [
    "## Наследование"
   ]
  },
  {
   "cell_type": "code",
   "execution_count": 73,
   "metadata": {},
   "outputs": [],
   "source": [
    "class Rectangle:\n",
    "    def __init__(self, width, height, secret=\",S2v3oABJfos\"):\n",
    "        self._width  = width\n",
    "        self._height = height\n",
    "        \n",
    "        self.__secret = secret\n",
    "        \n",
    "    def area(self):\n",
    "        return self._width * self._height\n",
    "    \n",
    "    def trick_secret(self):\n",
    "        return self.__secret[5:] + self.__secret[:5]\n",
    "    \n",
    "    def __private_method(self):\n",
    "        pass\n",
    "\n",
    "    \n",
    "class Square(Rectangle):\n",
    "    def __init__(self, side):\n",
    "        super().__init__(side, side)\n",
    "        \n",
    "    def show_secret(self):\n",
    "        print(self.__secret)"
   ]
  },
  {
   "cell_type": "code",
   "execution_count": 74,
   "metadata": {},
   "outputs": [
    {
     "name": "stdout",
     "output_type": "stream",
     "text": [
      "Rectangle: 6\n",
      "Square: 25\n"
     ]
    }
   ],
   "source": [
    "print(\"Rectangle:\", Rectangle(2, 3).area())\n",
    "print(\"Square:\", Square(5).area())"
   ]
  },
  {
   "cell_type": "code",
   "execution_count": 75,
   "metadata": {},
   "outputs": [
    {
     "data": {
      "text/plain": [
       "5"
      ]
     },
     "execution_count": 75,
     "metadata": {},
     "output_type": "execute_result"
    }
   ],
   "source": [
    "square = Square(5)\n",
    "square._width"
   ]
  },
  {
   "cell_type": "code",
   "execution_count": 76,
   "metadata": {},
   "outputs": [
    {
     "ename": "AttributeError",
     "evalue": "'Square' object has no attribute '_Square__secret'",
     "output_type": "error",
     "traceback": [
      "\u001b[0;31m---------------------------------------------------------------------------\u001b[0m",
      "\u001b[0;31mAttributeError\u001b[0m                            Traceback (most recent call last)",
      "\u001b[0;32m<ipython-input-76-01ddf4b02ee7>\u001b[0m in \u001b[0;36m<module>\u001b[0;34m()\u001b[0m\n\u001b[0;32m----> 1\u001b[0;31m \u001b[0msquare\u001b[0m\u001b[0;34m.\u001b[0m\u001b[0mshow_secret\u001b[0m\u001b[0;34m(\u001b[0m\u001b[0;34m)\u001b[0m\u001b[0;34m\u001b[0m\u001b[0;34m\u001b[0m\u001b[0m\n\u001b[0m",
      "\u001b[0;32m<ipython-input-73-4477e46b6c1b>\u001b[0m in \u001b[0;36mshow_secret\u001b[0;34m(self)\u001b[0m\n\u001b[1;32m     21\u001b[0m \u001b[0;34m\u001b[0m\u001b[0m\n\u001b[1;32m     22\u001b[0m     \u001b[0;32mdef\u001b[0m \u001b[0mshow_secret\u001b[0m\u001b[0;34m(\u001b[0m\u001b[0mself\u001b[0m\u001b[0;34m)\u001b[0m\u001b[0;34m:\u001b[0m\u001b[0;34m\u001b[0m\u001b[0;34m\u001b[0m\u001b[0m\n\u001b[0;32m---> 23\u001b[0;31m         \u001b[0mprint\u001b[0m\u001b[0;34m(\u001b[0m\u001b[0mself\u001b[0m\u001b[0;34m.\u001b[0m\u001b[0m__secret\u001b[0m\u001b[0;34m)\u001b[0m\u001b[0;34m\u001b[0m\u001b[0;34m\u001b[0m\u001b[0m\n\u001b[0m",
      "\u001b[0;31mAttributeError\u001b[0m: 'Square' object has no attribute '_Square__secret'"
     ]
    }
   ],
   "source": [
    "square.show_secret()"
   ]
  },
  {
   "cell_type": "code",
   "execution_count": 77,
   "metadata": {},
   "outputs": [
    {
     "data": {
      "text/plain": [
       "['_Rectangle__private_method', '_Rectangle__secret']"
      ]
     },
     "execution_count": 77,
     "metadata": {},
     "output_type": "execute_result"
    }
   ],
   "source": [
    "dir(square)[:2]"
   ]
  },
  {
   "cell_type": "code",
   "execution_count": 78,
   "metadata": {},
   "outputs": [
    {
     "data": {
      "text/plain": [
       "{'_width': 5, '_height': 5, '_Rectangle__secret': ',S2v3oABJfos'}"
      ]
     },
     "execution_count": 78,
     "metadata": {},
     "output_type": "execute_result"
    }
   ],
   "source": [
    "square.__dict__"
   ]
  },
  {
   "cell_type": "code",
   "execution_count": 79,
   "metadata": {},
   "outputs": [
    {
     "data": {
      "text/plain": [
       "'oABJfos,S2v3'"
      ]
     },
     "execution_count": 79,
     "metadata": {},
     "output_type": "execute_result"
    }
   ],
   "source": [
    "square.trick_secret()"
   ]
  },
  {
   "cell_type": "markdown",
   "metadata": {},
   "source": [
    "### Перегрузка операторов ?"
   ]
  },
  {
   "cell_type": "code",
   "execution_count": 80,
   "metadata": {},
   "outputs": [],
   "source": [
    "class Square(Rectangle):\n",
    "    def __init__(self, side):\n",
    "        super().__init__(side, side)\n",
    "        \n",
    "    def trick_secret(self, message):\n",
    "        return \"I don't know secret message. Let's try this one: \" + message\n",
    "    \n",
    "square = Square(5)"
   ]
  },
  {
   "cell_type": "code",
   "execution_count": 81,
   "metadata": {},
   "outputs": [
    {
     "ename": "TypeError",
     "evalue": "trick_secret() missing 1 required positional argument: 'message'",
     "output_type": "error",
     "traceback": [
      "\u001b[0;31m---------------------------------------------------------------------------\u001b[0m",
      "\u001b[0;31mTypeError\u001b[0m                                 Traceback (most recent call last)",
      "\u001b[0;32m<ipython-input-81-595253b164c4>\u001b[0m in \u001b[0;36m<module>\u001b[0;34m()\u001b[0m\n\u001b[0;32m----> 1\u001b[0;31m \u001b[0msquare\u001b[0m\u001b[0;34m.\u001b[0m\u001b[0mtrick_secret\u001b[0m\u001b[0;34m(\u001b[0m\u001b[0;34m)\u001b[0m\u001b[0;34m\u001b[0m\u001b[0;34m\u001b[0m\u001b[0m\n\u001b[0m",
      "\u001b[0;31mTypeError\u001b[0m: trick_secret() missing 1 required positional argument: 'message'"
     ]
    }
   ],
   "source": [
    "square.trick_secret()"
   ]
  },
  {
   "cell_type": "code",
   "execution_count": 82,
   "metadata": {},
   "outputs": [
    {
     "data": {
      "text/plain": [
       "mappingproxy({'__module__': '__main__',\n",
       "              '__init__': <function __main__.Square.__init__(self, side)>,\n",
       "              '__doc__': None})"
      ]
     },
     "execution_count": 82,
     "metadata": {},
     "output_type": "execute_result"
    }
   ],
   "source": [
    "class Square(Rectangle):\n",
    "    def __init__(self, side):\n",
    "        super().__init__(side, side)\n",
    "        \n",
    "Square.__dict__"
   ]
  },
  {
   "cell_type": "code",
   "execution_count": 83,
   "metadata": {},
   "outputs": [],
   "source": [
    "class Porter:\n",
    "    def greetings(self):\n",
    "        print(\"Hello world!\")\n",
    "    \n",
    "    def greetings(self, a):\n",
    "        print(f\"Bonjour, {a}!\")"
   ]
  },
  {
   "cell_type": "code",
   "execution_count": 84,
   "metadata": {},
   "outputs": [
    {
     "name": "stdout",
     "output_type": "stream",
     "text": [
      "Bonjour, Alexandr!\n"
     ]
    },
    {
     "ename": "TypeError",
     "evalue": "greetings() missing 1 required positional argument: 'a'",
     "output_type": "error",
     "traceback": [
      "\u001b[0;31m---------------------------------------------------------------------------\u001b[0m",
      "\u001b[0;31mTypeError\u001b[0m                                 Traceback (most recent call last)",
      "\u001b[0;32m<ipython-input-84-f97e8405eca4>\u001b[0m in \u001b[0;36m<module>\u001b[0;34m()\u001b[0m\n\u001b[1;32m      1\u001b[0m \u001b[0mp\u001b[0m \u001b[0;34m=\u001b[0m \u001b[0mPorter\u001b[0m\u001b[0;34m(\u001b[0m\u001b[0;34m)\u001b[0m\u001b[0;34m\u001b[0m\u001b[0;34m\u001b[0m\u001b[0m\n\u001b[1;32m      2\u001b[0m \u001b[0mp\u001b[0m\u001b[0;34m.\u001b[0m\u001b[0mgreetings\u001b[0m\u001b[0;34m(\u001b[0m\u001b[0;34m'Alexandr'\u001b[0m\u001b[0;34m)\u001b[0m\u001b[0;34m\u001b[0m\u001b[0;34m\u001b[0m\u001b[0m\n\u001b[0;32m----> 3\u001b[0;31m \u001b[0mp\u001b[0m\u001b[0;34m.\u001b[0m\u001b[0mgreetings\u001b[0m\u001b[0;34m(\u001b[0m\u001b[0;34m)\u001b[0m\u001b[0;34m\u001b[0m\u001b[0;34m\u001b[0m\u001b[0m\n\u001b[0m",
      "\u001b[0;31mTypeError\u001b[0m: greetings() missing 1 required positional argument: 'a'"
     ]
    }
   ],
   "source": [
    "p = Porter()\n",
    "p.greetings('Alexandr')\n",
    "p.greetings()"
   ]
  },
  {
   "cell_type": "markdown",
   "metadata": {},
   "source": [
    "## Абстрактные классы"
   ]
  },
  {
   "cell_type": "code",
   "execution_count": 85,
   "metadata": {},
   "outputs": [],
   "source": [
    "from math import pi\n",
    "\n",
    "from abc import ABCMeta, abstractmethod\n",
    "\n",
    "\n",
    "class Figure(metaclass=ABCMeta):\n",
    "    @abstractmethod\n",
    "    def area(self):\n",
    "        pass\n",
    "\n",
    "\n",
    "class Circle(Figure):\n",
    "    def __init__(self, radius):\n",
    "        self._radius = radius\n",
    "        \n",
    "    def area(self):\n",
    "        return pi * self._radius ** 2\n",
    "\n",
    "\n",
    "class Rectangle(Figure):\n",
    "    def __init__(self, width, height):\n",
    "        self._width  = width\n",
    "        self._height = height\n",
    "        \n",
    "    def area(self):\n",
    "        return self._width * self._height\n",
    "\n",
    "    \n",
    "class Square(Rectangle):\n",
    "    def __init__(self, side):\n",
    "        super().__init__(side, side)"
   ]
  },
  {
   "cell_type": "code",
   "execution_count": 86,
   "metadata": {},
   "outputs": [
    {
     "name": "stdout",
     "output_type": "stream",
     "text": [
      "Rectangle: 6\n",
      "Square: 25\n",
      "Circle: 7.0685834705770345\n"
     ]
    },
    {
     "ename": "TypeError",
     "evalue": "Can't instantiate abstract class Figure with abstract methods area",
     "output_type": "error",
     "traceback": [
      "\u001b[0;31m---------------------------------------------------------------------------\u001b[0m",
      "\u001b[0;31mTypeError\u001b[0m                                 Traceback (most recent call last)",
      "\u001b[0;32m<ipython-input-86-5f80bfa034fb>\u001b[0m in \u001b[0;36m<module>\u001b[0;34m()\u001b[0m\n\u001b[1;32m      2\u001b[0m \u001b[0mprint\u001b[0m\u001b[0;34m(\u001b[0m\u001b[0;34m\"Square:\"\u001b[0m\u001b[0;34m,\u001b[0m \u001b[0mSquare\u001b[0m\u001b[0;34m(\u001b[0m\u001b[0;36m5\u001b[0m\u001b[0;34m)\u001b[0m\u001b[0;34m.\u001b[0m\u001b[0marea\u001b[0m\u001b[0;34m(\u001b[0m\u001b[0;34m)\u001b[0m\u001b[0;34m)\u001b[0m\u001b[0;34m\u001b[0m\u001b[0;34m\u001b[0m\u001b[0m\n\u001b[1;32m      3\u001b[0m \u001b[0mprint\u001b[0m\u001b[0;34m(\u001b[0m\u001b[0;34m\"Circle:\"\u001b[0m\u001b[0;34m,\u001b[0m \u001b[0mCircle\u001b[0m\u001b[0;34m(\u001b[0m\u001b[0;36m1.5\u001b[0m\u001b[0;34m)\u001b[0m\u001b[0;34m.\u001b[0m\u001b[0marea\u001b[0m\u001b[0;34m(\u001b[0m\u001b[0;34m)\u001b[0m\u001b[0;34m)\u001b[0m\u001b[0;34m\u001b[0m\u001b[0;34m\u001b[0m\u001b[0m\n\u001b[0;32m----> 4\u001b[0;31m \u001b[0mprint\u001b[0m\u001b[0;34m(\u001b[0m\u001b[0;34m\"Figure:\"\u001b[0m\u001b[0;34m,\u001b[0m \u001b[0mFigure\u001b[0m\u001b[0;34m(\u001b[0m\u001b[0;34m)\u001b[0m\u001b[0;34m.\u001b[0m\u001b[0marea\u001b[0m\u001b[0;34m(\u001b[0m\u001b[0;34m)\u001b[0m\u001b[0;34m)\u001b[0m\u001b[0;34m\u001b[0m\u001b[0;34m\u001b[0m\u001b[0m\n\u001b[0m",
      "\u001b[0;31mTypeError\u001b[0m: Can't instantiate abstract class Figure with abstract methods area"
     ]
    }
   ],
   "source": [
    "print(\"Rectangle:\", Rectangle(2, 3).area())\n",
    "print(\"Square:\", Square(5).area())\n",
    "print(\"Circle:\", Circle(1.5).area())\n",
    "print(\"Figure:\", Figure().area())"
   ]
  },
  {
   "cell_type": "markdown",
   "metadata": {},
   "source": [
    "## Множественное наследование"
   ]
  },
  {
   "cell_type": "code",
   "execution_count": 87,
   "metadata": {},
   "outputs": [],
   "source": [
    "class A:\n",
    "    def __init__(self, a):\n",
    "        print(\"A's __init__ is called\")\n",
    "        self.a = a\n",
    "    \n",
    "    def method(self):\n",
    "        print(\"A's method is called\")\n",
    "        \n",
    "class B:\n",
    "    def __init__(self, b):\n",
    "        print(\"B's __init__ is called\")\n",
    "        self.b = b\n",
    "    \n",
    "    def method(self):\n",
    "        print(\"B's method is called\")"
   ]
  },
  {
   "cell_type": "code",
   "execution_count": 88,
   "metadata": {},
   "outputs": [],
   "source": [
    "class C(A, B):\n",
    "    def __init__(self, a, b):\n",
    "        print(\"C's __init__ is called\")\n",
    "        A.__init__(self, a)\n",
    "        B.__init__(self, b)\n",
    "    \n",
    "    def method(self):\n",
    "        print(\"C's method is called\")"
   ]
  },
  {
   "cell_type": "code",
   "execution_count": 89,
   "metadata": {},
   "outputs": [
    {
     "data": {
      "text/plain": [
       "(__main__.A, __main__.B)"
      ]
     },
     "execution_count": 89,
     "metadata": {},
     "output_type": "execute_result"
    }
   ],
   "source": [
    "C.__bases__"
   ]
  },
  {
   "cell_type": "code",
   "execution_count": 90,
   "metadata": {},
   "outputs": [
    {
     "name": "stdout",
     "output_type": "stream",
     "text": [
      "C's __init__ is called\n",
      "A's __init__ is called\n",
      "B's __init__ is called\n",
      "c.a = 12\n",
      "c.b = 5\n",
      "C's method is called\n"
     ]
    }
   ],
   "source": [
    "c = C(12, 5)\n",
    "print(\"c.a =\", c.a)\n",
    "print(\"c.b =\", c.b)\n",
    "c.method()"
   ]
  },
  {
   "cell_type": "code",
   "execution_count": 91,
   "metadata": {},
   "outputs": [
    {
     "data": {
      "text/plain": [
       "{'a': 12, 'b': 5}"
      ]
     },
     "execution_count": 91,
     "metadata": {},
     "output_type": "execute_result"
    }
   ],
   "source": [
    "c.__dict__"
   ]
  },
  {
   "cell_type": "code",
   "execution_count": 92,
   "metadata": {},
   "outputs": [],
   "source": [
    "class C(A, B):\n",
    "    def __init__(self, a, b):\n",
    "        print(\"C's __init__ is called\")\n",
    "        A.__init__(self, a)\n",
    "        B.__init__(self, b)"
   ]
  },
  {
   "cell_type": "code",
   "execution_count": 93,
   "metadata": {},
   "outputs": [
    {
     "name": "stdout",
     "output_type": "stream",
     "text": [
      "C's __init__ is called\n",
      "A's __init__ is called\n",
      "B's __init__ is called\n",
      "A's method is called\n"
     ]
    }
   ],
   "source": [
    "c = C(12, 5)\n",
    "c.method()"
   ]
  },
  {
   "cell_type": "code",
   "execution_count": 94,
   "metadata": {},
   "outputs": [],
   "source": [
    "class C(A, B):\n",
    "    def __init__(self, a, b):\n",
    "        print(\"C's __init__ is called\")\n",
    "        A.__init__(self, a)\n",
    "        B.__init__(self, b)\n",
    "        \n",
    "    def method(self):\n",
    "        return super().method()"
   ]
  },
  {
   "cell_type": "code",
   "execution_count": 95,
   "metadata": {},
   "outputs": [
    {
     "name": "stdout",
     "output_type": "stream",
     "text": [
      "C's __init__ is called\n",
      "A's __init__ is called\n",
      "B's __init__ is called\n",
      "A's method is called\n"
     ]
    }
   ],
   "source": [
    "c = C(12, 5)\n",
    "c.method()"
   ]
  },
  {
   "cell_type": "code",
   "execution_count": 96,
   "metadata": {},
   "outputs": [
    {
     "data": {
      "text/plain": [
       "(__main__.C, __main__.A, __main__.B, object)"
      ]
     },
     "execution_count": 96,
     "metadata": {},
     "output_type": "execute_result"
    }
   ],
   "source": [
    "# method resolution order\n",
    "C.__mro__"
   ]
  },
  {
   "cell_type": "code",
   "execution_count": 97,
   "metadata": {},
   "outputs": [],
   "source": [
    "class A:\n",
    "    def __init__(self, a):\n",
    "        print(\"A's __init__ is called\")\n",
    "        self.a = a\n",
    "        \n",
    "class B:\n",
    "    def __init__(self, b):\n",
    "        print(\"B's __init__ is called\")\n",
    "        self.b = b\n",
    "    \n",
    "    def method(self):\n",
    "        print(\"B's method is called\")\n",
    "        \n",
    "class C(A, B):\n",
    "    def __init__(self, a, b):\n",
    "        print(\"C's __init__ is called\")\n",
    "        A.__init__(self, a)\n",
    "        B.__init__(self, b)"
   ]
  },
  {
   "cell_type": "code",
   "execution_count": 98,
   "metadata": {},
   "outputs": [
    {
     "name": "stdout",
     "output_type": "stream",
     "text": [
      "C's __init__ is called\n",
      "A's __init__ is called\n",
      "B's __init__ is called\n",
      "B's method is called\n"
     ]
    }
   ],
   "source": [
    "c = C(12, 5)\n",
    "c.method()"
   ]
  },
  {
   "cell_type": "code",
   "execution_count": 99,
   "metadata": {},
   "outputs": [
    {
     "name": "stdout",
     "output_type": "stream",
     "text": [
      "                      type  isinstance\n",
      "<class '__main__.C'>     1           1\n",
      "<class '__main__.A'>     0           1\n",
      "<class '__main__.B'>     0           1\n",
      "<class 'object'>         0           1\n"
     ]
    }
   ],
   "source": [
    "print(\"{:20}  type  isinstance\".format(''))\n",
    "for cls in C.__mro__:\n",
    "    print(\"{:20}  {:4}  {:10}\".format(str(cls), type(c) is cls, isinstance(c, cls)))"
   ]
  },
  {
   "cell_type": "markdown",
   "metadata": {},
   "source": [
    "## Как работает super?"
   ]
  },
  {
   "cell_type": "code",
   "execution_count": 100,
   "metadata": {},
   "outputs": [
    {
     "name": "stdout",
     "output_type": "stream",
     "text": [
      "Some\n"
     ]
    }
   ],
   "source": [
    "class A:    \n",
    "    def get_some(self):\n",
    "        super().get_some()\n",
    "\n",
    "class B:\n",
    "    def get_some(self):\n",
    "        print('Some')\n",
    "        \n",
    "class C(A, B):\n",
    "    def get_some(self):\n",
    "        super().get_some()\n",
    "\n",
    "c = C()\n",
    "c.get_some()"
   ]
  },
  {
   "cell_type": "code",
   "execution_count": 101,
   "metadata": {},
   "outputs": [
    {
     "data": {
      "text/plain": [
       "(__main__.C, __main__.A, __main__.B, object)"
      ]
     },
     "execution_count": 101,
     "metadata": {},
     "output_type": "execute_result"
    }
   ],
   "source": [
    "C.__mro__"
   ]
  },
  {
   "cell_type": "code",
   "execution_count": 102,
   "metadata": {},
   "outputs": [
    {
     "name": "stdout",
     "output_type": "stream",
     "text": [
      "#C <super: <class 'C'>, <C object>>\n",
      "#A <super: <class 'A'>, <C object>>\n",
      "#B <super: <class 'B'>, <C object>>\n",
      "Some\n"
     ]
    }
   ],
   "source": [
    "class A:\n",
    "    def get_some(self):\n",
    "        print('#A', super())\n",
    "        super().get_some()\n",
    "\n",
    "class B:\n",
    "    def get_some(self):\n",
    "        print('#B', super())\n",
    "        print('Some')\n",
    "\n",
    "class C(A, B):\n",
    "    def get_some(self):\n",
    "        print('#C', super())\n",
    "        super().get_some()\n",
    "\n",
    "c = C()\n",
    "c.get_some()"
   ]
  },
  {
   "cell_type": "code",
   "execution_count": 103,
   "metadata": {},
   "outputs": [
    {
     "name": "stdout",
     "output_type": "stream",
     "text": [
      "Some\n"
     ]
    }
   ],
   "source": [
    "class A:\n",
    "    def get_some(self):\n",
    "        super(A, self).get_some()\n",
    "\n",
    "class B:\n",
    "    def get_some(self):\n",
    "        print('Some')\n",
    "\n",
    "class C(A, B):\n",
    "    def get_some(self):\n",
    "        super(C, self).get_some()\n",
    "\n",
    "c = C()\n",
    "c.get_some()"
   ]
  },
  {
   "cell_type": "code",
   "execution_count": 104,
   "metadata": {},
   "outputs": [
    {
     "data": {
      "text/plain": [
       "(__main__.C, __main__.A, __main__.B, object)"
      ]
     },
     "execution_count": 104,
     "metadata": {},
     "output_type": "execute_result"
    }
   ],
   "source": [
    "C.__mro__"
   ]
  },
  {
   "cell_type": "code",
   "execution_count": 105,
   "metadata": {},
   "outputs": [
    {
     "ename": "AttributeError",
     "evalue": "'super' object has no attribute 'get_some'",
     "output_type": "error",
     "traceback": [
      "\u001b[0;31m---------------------------------------------------------------------------\u001b[0m",
      "\u001b[0;31mAttributeError\u001b[0m                            Traceback (most recent call last)",
      "\u001b[0;32m<ipython-input-105-16a0706968e9>\u001b[0m in \u001b[0;36m<module>\u001b[0;34m()\u001b[0m\n\u001b[1;32m      1\u001b[0m \u001b[0ma\u001b[0m \u001b[0;34m=\u001b[0m \u001b[0mA\u001b[0m\u001b[0;34m(\u001b[0m\u001b[0;34m)\u001b[0m\u001b[0;34m\u001b[0m\u001b[0;34m\u001b[0m\u001b[0m\n\u001b[0;32m----> 2\u001b[0;31m \u001b[0ma\u001b[0m\u001b[0;34m.\u001b[0m\u001b[0mget_some\u001b[0m\u001b[0;34m(\u001b[0m\u001b[0;34m)\u001b[0m\u001b[0;34m\u001b[0m\u001b[0;34m\u001b[0m\u001b[0m\n\u001b[0m",
      "\u001b[0;32m<ipython-input-103-c7ecbced4798>\u001b[0m in \u001b[0;36mget_some\u001b[0;34m(self)\u001b[0m\n\u001b[1;32m      1\u001b[0m \u001b[0;32mclass\u001b[0m \u001b[0mA\u001b[0m\u001b[0;34m:\u001b[0m\u001b[0;34m\u001b[0m\u001b[0;34m\u001b[0m\u001b[0m\n\u001b[1;32m      2\u001b[0m     \u001b[0;32mdef\u001b[0m \u001b[0mget_some\u001b[0m\u001b[0;34m(\u001b[0m\u001b[0mself\u001b[0m\u001b[0;34m)\u001b[0m\u001b[0;34m:\u001b[0m\u001b[0;34m\u001b[0m\u001b[0;34m\u001b[0m\u001b[0m\n\u001b[0;32m----> 3\u001b[0;31m         \u001b[0msuper\u001b[0m\u001b[0;34m(\u001b[0m\u001b[0mA\u001b[0m\u001b[0;34m,\u001b[0m \u001b[0mself\u001b[0m\u001b[0;34m)\u001b[0m\u001b[0;34m.\u001b[0m\u001b[0mget_some\u001b[0m\u001b[0;34m(\u001b[0m\u001b[0;34m)\u001b[0m\u001b[0;34m\u001b[0m\u001b[0;34m\u001b[0m\u001b[0m\n\u001b[0m\u001b[1;32m      4\u001b[0m \u001b[0;34m\u001b[0m\u001b[0m\n\u001b[1;32m      5\u001b[0m \u001b[0;32mclass\u001b[0m \u001b[0mB\u001b[0m\u001b[0;34m:\u001b[0m\u001b[0;34m\u001b[0m\u001b[0;34m\u001b[0m\u001b[0m\n",
      "\u001b[0;31mAttributeError\u001b[0m: 'super' object has no attribute 'get_some'"
     ]
    }
   ],
   "source": [
    "a = A()\n",
    "a.get_some()"
   ]
  },
  {
   "cell_type": "code",
   "execution_count": 106,
   "metadata": {},
   "outputs": [
    {
     "data": {
      "text/plain": [
       "(__main__.A, object)"
      ]
     },
     "execution_count": 106,
     "metadata": {},
     "output_type": "execute_result"
    }
   ],
   "source": [
    "A.__mro__"
   ]
  },
  {
   "cell_type": "markdown",
   "metadata": {},
   "source": [
    "Подробнее о Method Resolution Order (MRO) можно прочитать [здесь](https://habr.com/post/62203/)."
   ]
  },
  {
   "cell_type": "code",
   "execution_count": null,
   "metadata": {},
   "outputs": [],
   "source": []
  }
 ],
 "metadata": {
  "kernelspec": {
   "display_name": "Python 3",
   "language": "python",
   "name": "python3"
  },
  "language_info": {
   "codemirror_mode": {
    "name": "ipython",
    "version": 3
   },
   "file_extension": ".py",
   "mimetype": "text/x-python",
   "name": "python",
   "nbconvert_exporter": "python",
   "pygments_lexer": "ipython3",
   "version": "3.6.8"
  }
 },
 "nbformat": 4,
 "nbformat_minor": 2
}
